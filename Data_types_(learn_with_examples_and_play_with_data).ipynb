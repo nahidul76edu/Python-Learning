{
  "nbformat": 4,
  "nbformat_minor": 0,
  "metadata": {
    "colab": {
      "provenance": [],
      "authorship_tag": "ABX9TyOP/wpAZh0VAMjyIVSq66bT",
      "include_colab_link": true
    },
    "kernelspec": {
      "name": "python3",
      "display_name": "Python 3"
    },
    "language_info": {
      "name": "python"
    }
  },
  "cells": [
    {
      "cell_type": "markdown",
      "metadata": {
        "id": "view-in-github",
        "colab_type": "text"
      },
      "source": [
        "<a href=\"https://colab.research.google.com/github/nahidul76edu/Python-Learning/blob/main/Data_types_(learn_with_examples_and_play_with_data).ipynb\" target=\"_parent\"><img src=\"https://colab.research.google.com/assets/colab-badge.svg\" alt=\"Open In Colab\"/></a>"
      ]
    },
    {
      "cell_type": "markdown",
      "source": [
        "# **Numeric Types**"
      ],
      "metadata": {
        "id": "ays9Jve1yeRm"
      }
    },
    {
      "cell_type": "markdown",
      "source": [
        "# **integer, float, complex**, binary"
      ],
      "metadata": {
        "id": "4iShBXuKtj3b"
      }
    },
    {
      "cell_type": "code",
      "source": [
        "#declare integer\n",
        "a = 10\n",
        "print(\"integer :\", a, type(a))\n",
        "#declare float\n",
        "a = 10.5\n",
        "print(\"float :\", a, type(a))\n",
        "#declare complex\n",
        "a = 3j\n",
        "print(\"complex :\", a, type(a))"
      ],
      "metadata": {
        "colab": {
          "base_uri": "https://localhost:8080/"
        },
        "id": "5xoxlE2mykq6",
        "outputId": "c20b6a4e-cc7d-42fe-865c-5db6bddaf458"
      },
      "execution_count": 1,
      "outputs": [
        {
          "output_type": "stream",
          "name": "stdout",
          "text": [
            "integer : 10 <class 'int'>\n",
            "float : 10.5 <class 'float'>\n",
            "complex : 3j <class 'complex'>\n"
          ]
        }
      ]
    },
    {
      "cell_type": "markdown",
      "source": [
        "Exprore numeric type"
      ],
      "metadata": {
        "id": "84MVrHC_21TG"
      }
    },
    {
      "cell_type": "code",
      "source": [
        "x1 = input(\"enter first input:\")\n",
        "x2 = input(\"enter second input:\")\n",
        "\n",
        "x = x1 + x2\n",
        "\n",
        "print(x)\n",
        "\n",
        "\"\"\"\n",
        "the question is: why it is not able to add two values?\n",
        "\n",
        "The answer is: input() function convert anytypes (int, float, str, bytes) into a string value. Therefor, here, the +  fllow the string concatanate policy, not adding number policy.\n",
        "\"\"\""
      ],
      "metadata": {
        "colab": {
          "base_uri": "https://localhost:8080/",
          "height": 91
        },
        "id": "hHiN2q4729Wz",
        "outputId": "380f5a05-61c9-49a0-dd45-f1469bc8b4a9"
      },
      "execution_count": 2,
      "outputs": [
        {
          "output_type": "stream",
          "name": "stdout",
          "text": [
            "enter first input:20\n",
            "enter second input:30\n",
            "2030\n"
          ]
        },
        {
          "output_type": "execute_result",
          "data": {
            "text/plain": [
              "'\\nthe question is: why it is not able to add two values?\\n\\nThe answer is: input() function convert anytypes (int, float, str, bytes) into a string value. Therefor, here, the +  fllow the string concatanate policy, not adding number policy.\\n'"
            ],
            "application/vnd.google.colaboratory.intrinsic+json": {
              "type": "string"
            }
          },
          "metadata": {},
          "execution_count": 2
        }
      ]
    },
    {
      "cell_type": "markdown",
      "source": [
        "Convert it in different format"
      ],
      "metadata": {
        "id": "-5YKE57rIF5Z"
      }
    },
    {
      "cell_type": "code",
      "source": [
        "bucket1 = 10\n",
        "\n",
        "# Convert to float\n",
        "bucket_float = float(bucket1)\n",
        "print(\"Float:\", bucket_float)\n",
        "\n",
        "# Convert to binary\n",
        "bucket_bin = bin(bucket1)\n",
        "print(\"Binary:\", bucket_bin)\n",
        "\n",
        "# Convert to hexadecimal\n",
        "bucket_hex = hex(bucket1)\n",
        "print(\"Hexadecimal:\", bucket_hex)\n",
        "\n",
        "# Convert to octal\n",
        "bucket_oct = oct(bucket1)\n",
        "print(\"Octal:\", bucket_oct)\n"
      ],
      "metadata": {
        "colab": {
          "base_uri": "https://localhost:8080/"
        },
        "id": "bweebd9rFnvO",
        "outputId": "ec24e84a-51a1-4958-ed32-12945966fb08"
      },
      "execution_count": 3,
      "outputs": [
        {
          "output_type": "stream",
          "name": "stdout",
          "text": [
            "Float: 10.0\n",
            "Binary: 0b1010\n",
            "Hexadecimal: 0xa\n",
            "Octal: 0o12\n"
          ]
        }
      ]
    },
    {
      "cell_type": "code",
      "source": [
        "\"\"\"\n",
        "To solve this problem we can use multipe policy (declare the data type when taking inputs or befor input function).\n",
        "\"\"\"\n",
        "#int\n",
        "x_int1 = int(input(\"enter first input: int type: \"))\n",
        "x_int2 = int(input(\"enter second input: int type: \"))\n",
        "x_int_sum = x_int1 + x_int2\n",
        "print(\"Int sum:\", x_int_sum)\n",
        "\n",
        "#float\n",
        "x_float1 = float(input(\"enter first input: float type: \"))\n",
        "x_float2 = float(input(\"enter second input: float type: \"))\n",
        "x_float_sum = x_float1 + x_float2\n",
        "print(\"float sum:\", x_float_sum)\n",
        "\n",
        "#eval\n",
        "x_eval1 = eval(input(\"enter first input: any type: \"))   #i used float input\n",
        "x_eval2 = eval(input(\"enter second input: any type: \"))  #i used binary input\n",
        "x_eval_sum = x_eval1 + x_eval2\n",
        "print(\"eval sum: suppot any types\", x_eval_sum)"
      ],
      "metadata": {
        "colab": {
          "base_uri": "https://localhost:8080/"
        },
        "id": "puqN22bW3AhI",
        "outputId": "2e62560e-f5ac-4dff-afac-e5694e02561d"
      },
      "execution_count": 5,
      "outputs": [
        {
          "output_type": "stream",
          "name": "stdout",
          "text": [
            "enter first input: int type: 10\n",
            "enter second input: int type: 20\n",
            "Int sum: 30\n",
            "enter first input: float type: 10.5\n",
            "enter second input: float type: 10\n",
            "float sum: 20.5\n",
            "enter first input: any type: 10.5\n",
            "enter second input: any type: 10\n",
            "eval sum: suppot any types 20.5\n"
          ]
        }
      ]
    },
    {
      "cell_type": "markdown",
      "source": [
        "# **Dictionary Types**"
      ],
      "metadata": {
        "id": "bhtXIdBnytVE"
      }
    },
    {
      "cell_type": "markdown",
      "source": [
        "Benefits of dictionaries:\n",
        "\n",
        "- **Fast lookups:** Dictionaries offer constant-time lookups, making them highly efficient for accessing values based on keys.\n",
        "\n",
        "- **Flexibility:** Dictionaries can store heterogeneous data types as values and support various data structures as keys.\n",
        "\n",
        "- **Key-Value Pairs:** Dictionaries allow you to store data as key-value pairs, enabling easy organization and retrieval of information.\n",
        "\n",
        "- **Dynamic:** Dictionaries can grow or shrink dynamically, allowing for easy addition or removal of key-value pairs.\n",
        "\n",
        "- **Hashing:** Internally, dictionaries use hashing for fast access, which makes them suitable for applications requiring fast retrieval based on keys.\n",
        "\n",
        "Drawbacks of dictionaries:\n",
        "\n",
        "- **Unordered:** Dictionaries are unordered collections, meaning the order of elements may not be preserved. This can be a limitation in scenarios where order matters.\n",
        "\n",
        "- **Memory Consumption:** Dictionaries consume more memory compared to other data structures like lists or tuples.\n",
        "\n",
        "- **Immutable Keys:** Keys in dictionaries must be immutable objects. Mutable objects like lists cannot be used as keys.\n",
        "\n",
        "- **Overhead:** Dictionaries have some overhead associated with hashing and maintaining the hash table, which can impact performance for very large dictionaries.\n"
      ],
      "metadata": {
        "id": "dmIvM584Ihja"
      }
    },
    {
      "cell_type": "code",
      "source": [
        "#declare dictionary\n",
        "dict_example = {\"name\": \"Nahid\", \"Age\": 25, \"City\": \"Chapainawabganj\"}\n",
        "print(\"Dictionary data: \",dict_example)"
      ],
      "metadata": {
        "colab": {
          "base_uri": "https://localhost:8080/"
        },
        "id": "HewJxmiZystb",
        "outputId": "c01fe8af-1ae5-4f0d-ff56-8e697998a7e5"
      },
      "execution_count": 6,
      "outputs": [
        {
          "output_type": "stream",
          "name": "stdout",
          "text": [
            "Dictionary data:  {'name': 'Nahid', 'Age': 25, 'City': 'Chapainawabganj'}\n"
          ]
        }
      ]
    },
    {
      "cell_type": "code",
      "source": [
        "# Accessing values\n",
        "#print(dict_example[0]) #can not work like this\n",
        "\n",
        "print(\"accessing particular data: \", dict_example['Age'])\n",
        "print(\"accessing particular data :\", dict_example['City'])"
      ],
      "metadata": {
        "colab": {
          "base_uri": "https://localhost:8080/"
        },
        "id": "bZF1wX64JFOS",
        "outputId": "276bcf06-f01e-4079-ebc3-d5dc157b42e1"
      },
      "execution_count": 7,
      "outputs": [
        {
          "output_type": "stream",
          "name": "stdout",
          "text": [
            "accessing particular data:  25\n",
            "accessing particular data : Chapainawabganj\n"
          ]
        }
      ]
    },
    {
      "cell_type": "code",
      "source": [
        "# Accessing values\n",
        "#print(dict_example[0]) #can not work like this\n",
        "dict_example['Age'] = 30\n",
        "dict_example['City'] = \"Dhaka\"\n",
        "\n",
        "print(\"Accessing new data into dict: \", dict_example['Age'])\n",
        "print(\"Accessing new data into dict: \", dict_example['City'])\n",
        "print(\"Dictionary after Accessing new data: \", dict_example)"
      ],
      "metadata": {
        "colab": {
          "base_uri": "https://localhost:8080/"
        },
        "id": "0I106bgGJ2Ft",
        "outputId": "a1f4f59d-113c-4830-b7a8-d3368bdefcde"
      },
      "execution_count": 8,
      "outputs": [
        {
          "output_type": "stream",
          "name": "stdout",
          "text": [
            "Accessing new data into dict:  30\n",
            "Accessing new data into dict:  Dhaka\n",
            "Dictionary after Accessing new data:  {'name': 'Nahid', 'Age': 30, 'City': 'Dhaka'}\n"
          ]
        }
      ]
    },
    {
      "cell_type": "code",
      "source": [
        "# Removing an item\n",
        "removed_item = dict_example.pop(\"name\")\n",
        "print(\"Removed item (Age):\", removed_item)\n",
        "print(\"After removing Age:\", dict_example)"
      ],
      "metadata": {
        "colab": {
          "base_uri": "https://localhost:8080/"
        },
        "id": "ANNHngdKKkFH",
        "outputId": "680e00e9-a180-4726-ddea-3daae2a476be"
      },
      "execution_count": 9,
      "outputs": [
        {
          "output_type": "stream",
          "name": "stdout",
          "text": [
            "Removed item (Age): Nahid\n",
            "After removing Age: {'Age': 30, 'City': 'Dhaka'}\n"
          ]
        }
      ]
    },
    {
      "cell_type": "code",
      "source": [
        "# Checking if a key exists\n",
        "print(\"Is 'City' present in the dictionary?\", \"City\" in dict_example)"
      ],
      "metadata": {
        "colab": {
          "base_uri": "https://localhost:8080/"
        },
        "id": "6qK9tfTsLTVv",
        "outputId": "b497dce6-1ea9-4085-f44f-bcfb6d7d8257"
      },
      "execution_count": 11,
      "outputs": [
        {
          "output_type": "stream",
          "name": "stdout",
          "text": [
            "Is 'City' present in the dictionary? True\n"
          ]
        }
      ]
    },
    {
      "cell_type": "code",
      "source": [
        "# Getting all keys and values\n",
        "print(\"Keys:\", dict_example.keys())\n",
        "print(\"Values:\", dict_example.values())"
      ],
      "metadata": {
        "colab": {
          "base_uri": "https://localhost:8080/"
        },
        "id": "o10dWe9lLW0R",
        "outputId": "2ae77b27-f73d-4f98-92a4-ae13358a9648"
      },
      "execution_count": 12,
      "outputs": [
        {
          "output_type": "stream",
          "name": "stdout",
          "text": [
            "Keys: dict_keys(['Age', 'City'])\n",
            "Values: dict_values([30, 'Dhaka'])\n"
          ]
        }
      ]
    },
    {
      "cell_type": "code",
      "source": [
        "dict_example.items()"
      ],
      "metadata": {
        "colab": {
          "base_uri": "https://localhost:8080/"
        },
        "id": "XqyXqbX2LnjO",
        "outputId": "85bce3b9-53ae-47ef-da06-940ff500a9e7"
      },
      "execution_count": 13,
      "outputs": [
        {
          "output_type": "execute_result",
          "data": {
            "text/plain": [
              "dict_items([('Age', 30), ('City', 'Dhaka')])"
            ]
          },
          "metadata": {},
          "execution_count": 13
        }
      ]
    },
    {
      "cell_type": "code",
      "source": [
        "# Iterating through key-value pairs\n",
        "for key, value in dict_example.items():\n",
        "    print(\"keys:\\n\", key)\n",
        "    print(\"values:\\n\", value)\n",
        "    print(\"keys and values:\\n\", key, \":\", value)\n",
        "    print()  # Adding a newline after each key-value pair\n"
      ],
      "metadata": {
        "colab": {
          "base_uri": "https://localhost:8080/"
        },
        "id": "yBUdkCxZI3xd",
        "outputId": "f9834d37-bc41-4ca1-eb3f-4c667ba644ef"
      },
      "execution_count": 14,
      "outputs": [
        {
          "output_type": "stream",
          "name": "stdout",
          "text": [
            "keys:\n",
            " Age\n",
            "values:\n",
            " 30\n",
            "keys and values:\n",
            " Age : 30\n",
            "\n",
            "keys:\n",
            " City\n",
            "values:\n",
            " Dhaka\n",
            "keys and values:\n",
            " City : Dhaka\n",
            "\n"
          ]
        }
      ]
    },
    {
      "cell_type": "code",
      "source": [
        "# Iterating through key-value pairs\n",
        "print(\"Keys:\")\n",
        "for key in dict_example.keys():\n",
        "    print(key)\n",
        "\n",
        "print(\"\\nValues:\")\n",
        "for value in dict_example.values():\n",
        "    print(value)\n"
      ],
      "metadata": {
        "colab": {
          "base_uri": "https://localhost:8080/"
        },
        "id": "Vcla5Dx1NsJQ",
        "outputId": "dc3e45fb-57cd-4ab3-f81c-eb1c2e7562ff"
      },
      "execution_count": 15,
      "outputs": [
        {
          "output_type": "stream",
          "name": "stdout",
          "text": [
            "Keys:\n",
            "Age\n",
            "City\n",
            "\n",
            "Values:\n",
            "30\n",
            "Dhaka\n"
          ]
        }
      ]
    },
    {
      "cell_type": "markdown",
      "source": [
        "# **Boolean Types**"
      ],
      "metadata": {
        "id": "Z4beQ1Way00s"
      }
    },
    {
      "cell_type": "markdown",
      "source": [
        "In Python, the boolean data type represents truth values True and False. Here's an overview of its benefits, drawbacks, use cases, examples, and operations:\n",
        "\n",
        "**Benefits:**\n",
        "- **Simplicity:** Booleans offer a simple way to represent two states: true or false.\n",
        "- **Logical Operations:** Booleans are fundamental for logical operations, such as conditional statements and boolean algebra.\n",
        "- **Efficiency:** Booleans require minimal memory and offer fast evaluations.\n",
        "\n",
        "**Drawbacks:**\n",
        "- **Limited Values:** Booleans can only represent two states, true or false, which might be limiting in certain scenarios requiring multiple states.\n",
        "\n",
        "**Use Cases:**\n",
        "- **Conditional Statements:** Booleans are commonly used in if-else statements to control program flow based on conditions.\n",
        "- **Loop Control:** Booleans can determine loop termination conditions.\n",
        "- **Function Returns:** Booleans are often used as return values to indicate the success or failure of operations.\n",
        "- **Data Filtering:** Booleans can filter data based on specific conditions.\n"
      ],
      "metadata": {
        "id": "w1lTqWELOvCb"
      }
    },
    {
      "cell_type": "code",
      "source": [
        "# Declaring a boolean variable 'boolean_declare' and assigning it the value True\n",
        "boolean_declare = True"
      ],
      "metadata": {
        "id": "nDFAbwcMQHJd"
      },
      "execution_count": 16,
      "outputs": []
    },
    {
      "cell_type": "code",
      "source": [
        "# Using boolean in conditional statement\n",
        "if boolean_declare: # This checks if the value of 'boolean_declare' is True\n",
        "  print(\"'boolean_declare' is True\")\n",
        "else:\n",
        "  print(\"'boolean_declare' is (not True) or False\")"
      ],
      "metadata": {
        "colab": {
          "base_uri": "https://localhost:8080/"
        },
        "id": "QtJZreMaQz-g",
        "outputId": "892bc41a-75b9-453c-866d-711e27517bff"
      },
      "execution_count": 17,
      "outputs": [
        {
          "output_type": "stream",
          "name": "stdout",
          "text": [
            "'boolean_declare' is True\n"
          ]
        }
      ]
    },
    {
      "cell_type": "code",
      "source": [
        "boolean_declare = False\n",
        "# Using boolean in conditional statement\n",
        "if boolean_declare == True:\n",
        "  print(\"'boolean_declare' is True\")\n",
        "else:\n",
        "  print(\"'boolean_declare' is (not True) or False\")"
      ],
      "metadata": {
        "colab": {
          "base_uri": "https://localhost:8080/"
        },
        "id": "H_V_55gNRmKz",
        "outputId": "1ec94f9e-d339-40bf-af7e-bb539335f9ed"
      },
      "execution_count": 18,
      "outputs": [
        {
          "output_type": "stream",
          "name": "stdout",
          "text": [
            "'boolean_declare' is (not True) or False\n"
          ]
        }
      ]
    },
    {
      "cell_type": "markdown",
      "source": [
        "Condition check in diffferent styles"
      ],
      "metadata": {
        "id": "khHFAfY7TXAN"
      }
    },
    {
      "cell_type": "code",
      "source": [
        "# Declaring a boolean variable\n",
        "boolean_declare = False\n",
        "\n",
        "# Using boolean in conditional statements\n",
        "\n",
        "# Method 1: Comparing with True\n",
        "if boolean_declare == True:\n",
        "    print(\"'boolean_declare' is True\")\n",
        "\n",
        "# Method 2: Using 'is' keyword with True\n",
        "if boolean_declare is True:\n",
        "    print(\"'boolean_declare' is True\")\n",
        "\n",
        "# Method 3: Using 'is' keyword with False\n",
        "if boolean_declare is False:\n",
        "    print(\"'boolean_declare' is False\")\n",
        "\n",
        "# Method 4: Using negation operator\n",
        "if not boolean_declare:\n",
        "    print(\"'boolean_declare' is (not True) or False\")\n",
        "\n",
        "# Method 5: Comparing with False\n",
        "if boolean_declare == False:\n",
        "    print(\"'boolean_declare' is (not True) or False\")\n",
        "\n",
        "# Method 6: Using 'is not' keyword with True\n",
        "if boolean_declare is not True:\n",
        "    print(\"'boolean_declare' is (not True) or False\")\n",
        "\n",
        "# Method 7: Using 'is not' keyword with False\n",
        "if boolean_declare is not False:\n",
        "    print(\"'boolean_declare' is (not False) or True\")"
      ],
      "metadata": {
        "colab": {
          "base_uri": "https://localhost:8080/"
        },
        "id": "p5TQsIjORzWn",
        "outputId": "c4d741f5-16fb-4875-d63c-1ebfc275df4c"
      },
      "execution_count": 19,
      "outputs": [
        {
          "output_type": "stream",
          "name": "stdout",
          "text": [
            "'boolean_declare' is False\n",
            "'boolean_declare' is (not True) or False\n",
            "'boolean_declare' is (not True) or False\n",
            "'boolean_declare' is (not True) or False\n"
          ]
        }
      ]
    },
    {
      "cell_type": "code",
      "source": [
        "# Declaring a boolean variable\n",
        "boolean_declare = True\n",
        "\n",
        "# Loop control using boolean\n",
        "# This loop iterates until 'a' becomes False\n",
        "i = 0\n",
        "while boolean_declare:\n",
        "  # Printing the current loop iteration\n",
        "  print(\"Loop iteration:\", i)\n",
        "  # Incrementing the loop counter\n",
        "  i += 1\n",
        "  # Checking if loop counter is 3\n",
        "  if i == 3:\n",
        "    # If loop counter is 3, setting 'a' to False to exit the loop\n",
        "    boolean_declare = False"
      ],
      "metadata": {
        "colab": {
          "base_uri": "https://localhost:8080/"
        },
        "id": "3GNBs5SYUYUy",
        "outputId": "9f0f1b31-24c5-44fb-e15a-cf0ee8ed37ba"
      },
      "execution_count": 20,
      "outputs": [
        {
          "output_type": "stream",
          "name": "stdout",
          "text": [
            "Loop iteration: 0\n",
            "Loop iteration: 1\n",
            "Loop iteration: 2\n"
          ]
        }
      ]
    },
    {
      "cell_type": "markdown",
      "source": [
        "**Using condition, check even or odd number**"
      ],
      "metadata": {
        "id": "tjIqd0uXE1HQ"
      }
    },
    {
      "cell_type": "code",
      "source": [
        "first_input = 4\n",
        "first_input/2 == first_input/2"
      ],
      "metadata": {
        "colab": {
          "base_uri": "https://localhost:8080/"
        },
        "id": "oFY2-PaTEPXe",
        "outputId": "7e2240f0-4402-44b0-c60a-43442fd38e84"
      },
      "execution_count": 21,
      "outputs": [
        {
          "output_type": "execute_result",
          "data": {
            "text/plain": [
              "True"
            ]
          },
          "metadata": {},
          "execution_count": 21
        }
      ]
    },
    {
      "cell_type": "code",
      "source": [
        "first_input = int(input(\"Enter an integer value: \"))\n",
        "\n",
        "if first_input/2 == int(first_input/2):\n",
        "  print(f\"{first_input} is a even number\")\n",
        "else:\n",
        "  print(f\"{first_input} is a odd number\")\n",
        "#############################################################################\n",
        "#can do in another style\n",
        "\n",
        "first_input = int(input(\"Enter a integer value: \"))\n",
        "\n",
        "if first_input % 2 == 0:\n",
        "  print(f\"{first_input} is a even number\")\n",
        "else:\n",
        "  print(f\"{first_input} is a odd number\")\n",
        "##############################################################################\n",
        "#Another style, by calling function\n",
        "\n",
        "def check_even_or_odd_number():\n",
        "  number = int(input(\"Insert int Number: \"))\n",
        "  if number % 2 == 0:\n",
        "    print(f\"{number} is a even number\")\n",
        "  else:\n",
        "    print(f\"{number} is a odd number\")\n",
        "\n",
        "check_even_or_odd_number()"
      ],
      "metadata": {
        "colab": {
          "base_uri": "https://localhost:8080/"
        },
        "id": "A61LUn0vELHC",
        "outputId": "34ae28ac-11e2-49a6-94ea-12ad2381d73b"
      },
      "execution_count": 22,
      "outputs": [
        {
          "output_type": "stream",
          "name": "stdout",
          "text": [
            "Enter an integer value: 10\n",
            "10 is a even number\n",
            "Enter a integer value: 11\n",
            "11 is a odd number\n",
            "Insert int Number: 12\n",
            "12 is a even number\n"
          ]
        }
      ]
    },
    {
      "cell_type": "code",
      "source": [
        "# Data filtering based on boolean condition\n",
        "list_1 = [1, 2, 3, 4, 5, 6, 7, 8, 9, 10]\n",
        "\n",
        "call_each_list = [i for i in list_1]\n",
        "print(\"call_each_list: \",call_each_list)\n",
        "##############################################################################\n",
        "even_number_filter = [i for i in list_1 if i % 2 == 0]\n",
        "print(\"Filter odd number: \", even_number_filter)\n",
        "\n",
        "#using loop\n",
        "# Initialize an empty list to store even numbers\n",
        "\n",
        "even_number_filter = []\n",
        "odd_number_filter = []\n",
        "\n",
        "for i in list_1: #list_1 = [1, 2, 3, 4, 5, 6, 7, 8, 9, 10]\n",
        "  # Check if the element is even\n",
        "  if i % 2 == 0:\n",
        "    print(f\"{i} is a even number\")\n",
        "    even_number_filter.append(i)\n",
        "  else:\n",
        "    print(f\"{i} is a odd number\")\n",
        "    odd_number_filter.append(i)\n",
        "\n",
        "print(\"even_number_filter loop: \", even_number_filter, \"odd_number_filter loop: \", odd_number_filter)\n",
        "\n",
        "# Using lambda function with filter\n",
        "even_number_filter = list(filter(lambda x: x % 2 == 0, list_1))\n",
        "print(\"even_number_filter: using lambda\", even_number_filter)\n",
        "###############################################################################\n",
        "\n",
        "odd_number_filter = [i for i in list_1 if i not in even_number_filter]\n",
        "print(\"Filter odd number: \", odd_number_filter)\n",
        "\n",
        "#Using lambda function with filter\n",
        "odd_number_filter = list(filter(lambda x: x % 2 != 0, list_1))\n",
        "print(\"odd_number_filter: using lambda\", odd_number_filter)"
      ],
      "metadata": {
        "colab": {
          "base_uri": "https://localhost:8080/"
        },
        "id": "5fXYGYliOyvf",
        "outputId": "ed012901-4a00-43f9-88ae-14c2472c086b"
      },
      "execution_count": 23,
      "outputs": [
        {
          "output_type": "stream",
          "name": "stdout",
          "text": [
            "call_each_list:  [1, 2, 3, 4, 5, 6, 7, 8, 9, 10]\n",
            "Filter odd number:  [2, 4, 6, 8, 10]\n",
            "1 is a odd number\n",
            "2 is a even number\n",
            "3 is a odd number\n",
            "4 is a even number\n",
            "5 is a odd number\n",
            "6 is a even number\n",
            "7 is a odd number\n",
            "8 is a even number\n",
            "9 is a odd number\n",
            "10 is a even number\n",
            "even_number_filter loop:  [2, 4, 6, 8, 10] odd_number_filter loop:  [1, 3, 5, 7, 9]\n",
            "even_number_filter: using lambda [2, 4, 6, 8, 10]\n",
            "Filter odd number:  [1, 3, 5, 7, 9]\n",
            "odd_number_filter: using lambda [1, 3, 5, 7, 9]\n"
          ]
        }
      ]
    },
    {
      "cell_type": "markdown",
      "source": [
        "# **Set Types**\n",
        "\n",
        "Benefits of Sets:\n",
        "- Uniqueness: Sets contain unique elements, ensuring each element appears only once.\n",
        "- Efficient Membership Testing: Sets offer efficient membership testing operations, with constant-time complexity.\n",
        "- Mathematical Operations: Sets support various mathematical operations like union, intersection, difference, and symmetric difference, making them useful for set theory tasks.\n",
        "- Mutable and Immutable Variants: Python provides both mutable (set) and immutable (frozenset) variants of sets, offering flexibility based on application requirements.\n",
        "\n",
        "Drawbacks of Sets:\n",
        "- Unordered: Sets are unordered collections, meaning the order of elements is not guaranteed.\n",
        "- Cannot Store Mutable Elements: Sets cannot contain mutable elements such as lists or dictionaries.\n",
        "- Memory Overhead: Sets consume more memory compared to other data structures due to their internal implementation using hash tables.\n",
        "\n"
      ],
      "metadata": {
        "id": "eGQppeOmzCd8"
      }
    },
    {
      "cell_type": "code",
      "source": [
        "#Declare set with sstring\n",
        "string_set = {\"nahid\", \"jahid\", \"kamal\", \"nahid\"}\n",
        "print(\"string_set\", string_set)\n",
        "\n",
        "# Declare a set with numbers\n",
        "number_set = {1, 2, 3, 4, 5}\n",
        "print(\"Set number_set:\", number_set)\n"
      ],
      "metadata": {
        "colab": {
          "base_uri": "https://localhost:8080/"
        },
        "id": "H-gR1zFKOySy",
        "outputId": "42a5b2fd-4b19-402a-a3db-1a37efd3dd8e"
      },
      "execution_count": 24,
      "outputs": [
        {
          "output_type": "stream",
          "name": "stdout",
          "text": [
            "string_set {'kamal', 'jahid', 'nahid'}\n",
            "Set number_set: {1, 2, 3, 4, 5}\n"
          ]
        }
      ]
    },
    {
      "cell_type": "code",
      "source": [
        "# Add an element to the number set\n",
        "number_set.add(6)\n",
        "print(\"After adding 6 to number_set:\", number_set)\n",
        "\n",
        "# Remove an element from the name set\n",
        "string_set.remove(\"nahid\")\n",
        "print(\"After removing 'nahid' from string_set:\", string_set)\n"
      ],
      "metadata": {
        "colab": {
          "base_uri": "https://localhost:8080/"
        },
        "id": "iy7mpneZO0Qx",
        "outputId": "a25d4129-7f3b-4d4e-e5ae-57e2603edd01"
      },
      "execution_count": 25,
      "outputs": [
        {
          "output_type": "stream",
          "name": "stdout",
          "text": [
            "After adding 6 to number_set: {1, 2, 3, 4, 5, 6}\n",
            "After removing 'nahid' from string_set: {'kamal', 'jahid'}\n"
          ]
        }
      ]
    },
    {
      "cell_type": "code",
      "source": [
        "# Access elements in both sets using a loop\n",
        "print(\"Accessing elements in string_set:\")\n",
        "for name in string_set:\n",
        "    print(name)\n",
        "\n",
        "print(\"Accessing elements in number_set:\")\n",
        "for num in number_set:\n",
        "    print(num)"
      ],
      "metadata": {
        "colab": {
          "base_uri": "https://localhost:8080/"
        },
        "id": "ga66c31CPHmt",
        "outputId": "c4e8c2ca-7c84-479c-f68e-368e7c388e8d"
      },
      "execution_count": 26,
      "outputs": [
        {
          "output_type": "stream",
          "name": "stdout",
          "text": [
            "Accessing elements in string_set:\n",
            "kamal\n",
            "jahid\n",
            "Accessing elements in number_set:\n",
            "1\n",
            "2\n",
            "3\n",
            "4\n",
            "5\n",
            "6\n"
          ]
        }
      ]
    },
    {
      "cell_type": "code",
      "source": [
        "# Check if an element exists in both sets\n",
        "print(\"Is 'jahid' in string_set?\", \"jahid\" in string_set)\n",
        "print(\"Is 2 in number_set?\", 2 in number_set)"
      ],
      "metadata": {
        "colab": {
          "base_uri": "https://localhost:8080/"
        },
        "id": "slZP_NgrPR32",
        "outputId": "0bcb0bdc-1318-49ec-ba53-412791456915"
      },
      "execution_count": 27,
      "outputs": [
        {
          "output_type": "stream",
          "name": "stdout",
          "text": [
            "Is 'jahid' in string_set? True\n",
            "Is 2 in number_set? True\n"
          ]
        }
      ]
    },
    {
      "cell_type": "code",
      "source": [
        "# Calculate the length of both sets\n",
        "print(\"Length of string_set:\", len(string_set))\n",
        "print(\"Length of number_set:\", len(number_set))"
      ],
      "metadata": {
        "colab": {
          "base_uri": "https://localhost:8080/"
        },
        "id": "J38v5Fr7PUD0",
        "outputId": "8e2bb330-2abc-46b9-8310-18ef508645d1"
      },
      "execution_count": 28,
      "outputs": [
        {
          "output_type": "stream",
          "name": "stdout",
          "text": [
            "Length of string_set: 2\n",
            "Length of number_set: 6\n"
          ]
        }
      ]
    },
    {
      "cell_type": "code",
      "source": [
        "# Clear both sets\n",
        "string_set.clear()\n",
        "number_set.clear()\n",
        "print(\"After clearing string_set:\", string_set)\n",
        "print(\"After clearing number_set:\", number_set)"
      ],
      "metadata": {
        "colab": {
          "base_uri": "https://localhost:8080/"
        },
        "id": "2WFhgK9Yy-OE",
        "outputId": "14fe9172-d2ba-4d3d-9367-9be78a2264e1"
      },
      "execution_count": 29,
      "outputs": [
        {
          "output_type": "stream",
          "name": "stdout",
          "text": [
            "After clearing string_set: set()\n",
            "After clearing number_set: set()\n"
          ]
        }
      ]
    },
    {
      "cell_type": "markdown",
      "source": [
        "# **Sequence Types**"
      ],
      "metadata": {
        "id": "4q9EHYy5zqe5"
      }
    },
    {
      "cell_type": "markdown",
      "source": [
        "# **string**"
      ],
      "metadata": {
        "id": "XhhZitIbaAMk"
      }
    },
    {
      "cell_type": "markdown",
      "source": [
        "Benefits of Strings:\n",
        "- Text Representation: Strings are used to represent text data in Python, making them essential for working with textual information.\n",
        "- Immutable: Strings in Python are immutable, meaning their values cannot be changed after they are created. This immutability ensures data integrity and simplifies memory management.\n",
        "- Versatility: Strings support various operations and methods for text manipulation, including concatenation, slicing, searching, replacing, and formatting.\n",
        "- Interpolation: Python provides powerful string interpolation mechanisms, such as f-strings and format() method, which allow for dynamic insertion of variables and expressions into strings.\n",
        "- Unicode Support: Python strings support Unicode characters, making them suitable for handling multilingual text and ensuring compatibility with different writing systems.\n",
        "\n",
        "Drawbacks of Strings:\n",
        "- Memory Overhead: Each character in a string consumes memory, which can lead to increased memory usage when working with large strings or many strings.\n",
        "- Immutability: While immutability ensures data integrity, it also means that creating modified versions of strings requires creating entirely new string objects, which can be inefficient for large strings or frequent modifications.\n",
        "- Performance: Some string operations, such as string concatenation using the + operator, can be inefficient, especially when dealing with large strings or many concatenations.\n",
        "- Encoding Issues: Working with encoded text, especially when dealing with different character encodings, can introduce complexities and potential errors in string processing.\n",
        "- Lack of Byte-Level Access: Unlike byte arrays, strings in Python do not provide direct access to individual bytes, which can be a limitation when working with binary data or low-level byte manipulation.\n"
      ],
      "metadata": {
        "id": "1ixT7QglaJkt"
      }
    },
    {
      "cell_type": "code",
      "source": [
        "# Declare a string\n",
        "my_string = \"Hello, World!\""
      ],
      "metadata": {
        "id": "bUfdhTbhajsg"
      },
      "execution_count": 30,
      "outputs": []
    },
    {
      "cell_type": "code",
      "source": [
        "# Accessing values:\n",
        "print(\"First character:\", my_string[0])  # Access the first character\n",
        "print(\"Last character:\", my_string[-1])  # Access the last character\n",
        "print(\"Substring:\", my_string[7:12])     # Access a substring"
      ],
      "metadata": {
        "colab": {
          "base_uri": "https://localhost:8080/"
        },
        "id": "G4Ou0nQZaldE",
        "outputId": "90524657-a126-457c-8d10-2d0cc4249d90"
      },
      "execution_count": 31,
      "outputs": [
        {
          "output_type": "stream",
          "name": "stdout",
          "text": [
            "First character: H\n",
            "Last character: !\n",
            "Substring: World\n"
          ]
        }
      ]
    },
    {
      "cell_type": "code",
      "source": [
        "# Concatenation:\n",
        "new_string = my_string + \" Have a nice day!\"  # Concatenate two strings\n",
        "print(\"Concatenated string:\", new_string)\n",
        "\n",
        "string_1 = \"nahid\"\n",
        "string_2 = \"is a\"\n",
        "string_3 = \"good human\"\n",
        "\n",
        "#string = string_1 + string_2 + string_3             # if do not need space when adding\n",
        "string = string_1 + ' ' + string_2 +  ' ' + string_3 # if need space when adding\n",
        "print(\"Concatenate multipe strings: \", string)"
      ],
      "metadata": {
        "colab": {
          "base_uri": "https://localhost:8080/"
        },
        "id": "m3jExOy8aouj",
        "outputId": "8fbdd267-658f-46b3-8998-d5f23a7d7ec2"
      },
      "execution_count": 32,
      "outputs": [
        {
          "output_type": "stream",
          "name": "stdout",
          "text": [
            "Concatenated string: Hello, World! Have a nice day!\n",
            "Concatenate multipe strings:  nahid is a good human\n"
          ]
        }
      ]
    },
    {
      "cell_type": "code",
      "source": [
        "# Length:\n",
        "print(\"Length of string:\", len(my_string))  # Get the length of the string"
      ],
      "metadata": {
        "colab": {
          "base_uri": "https://localhost:8080/"
        },
        "id": "Xa_5GzlhbtFi",
        "outputId": "819732d6-c75e-4dfb-8fa0-21f5f95d207f"
      },
      "execution_count": 33,
      "outputs": [
        {
          "output_type": "stream",
          "name": "stdout",
          "text": [
            "Length of string: 13\n"
          ]
        }
      ]
    },
    {
      "cell_type": "code",
      "source": [
        "# Iterating over characters:\n",
        "print(\"Characters in the string:\")\n",
        "for i in my_string:\n",
        "    print(i)"
      ],
      "metadata": {
        "colab": {
          "base_uri": "https://localhost:8080/"
        },
        "id": "yUojdr7JbvsG",
        "outputId": "215ae51b-6258-486b-ac92-6c497b7d788a"
      },
      "execution_count": 34,
      "outputs": [
        {
          "output_type": "stream",
          "name": "stdout",
          "text": [
            "Characters in the string:\n",
            "H\n",
            "e\n",
            "l\n",
            "l\n",
            "o\n",
            ",\n",
            " \n",
            "W\n",
            "o\n",
            "r\n",
            "l\n",
            "d\n",
            "!\n"
          ]
        }
      ]
    },
    {
      "cell_type": "code",
      "source": [
        "# Checking membership:\n",
        "if \"Hello\" in my_string:\n",
        "    print(\"The word 'Hello' is present in the string.\")"
      ],
      "metadata": {
        "colab": {
          "base_uri": "https://localhost:8080/"
        },
        "id": "WLo9qq8BcA4c",
        "outputId": "45278a3d-70d3-4383-d20a-b833ae15f710"
      },
      "execution_count": 35,
      "outputs": [
        {
          "output_type": "stream",
          "name": "stdout",
          "text": [
            "The word 'Hello' is present in the string.\n"
          ]
        }
      ]
    },
    {
      "cell_type": "code",
      "source": [
        "# Replacing:\n",
        "new_string = my_string.replace(\"World\", \"Universe\")  # Replace a substring\n",
        "print(\"String before replacement (original):\", my_string)\n",
        "print(\"String after replacement:\", new_string)"
      ],
      "metadata": {
        "colab": {
          "base_uri": "https://localhost:8080/"
        },
        "id": "6MjD1HKwcDiu",
        "outputId": "db6d7484-9f1f-43b0-85e2-757e16827590"
      },
      "execution_count": 36,
      "outputs": [
        {
          "output_type": "stream",
          "name": "stdout",
          "text": [
            "String before replacement (original): Hello, World!\n",
            "String after replacement: Hello, Universe!\n"
          ]
        }
      ]
    },
    {
      "cell_type": "code",
      "source": [
        "Convert_in_upper_case = my_string.upper()\n",
        "Convert_in_lower_case = my_string.lower()\n",
        "\n",
        "# Converting to upper and lower case:\n",
        "print(\"Uppercase:\", Convert_in_upper_case)\n",
        "print(\"Lowercase:\", Convert_in_lower_case)"
      ],
      "metadata": {
        "colab": {
          "base_uri": "https://localhost:8080/"
        },
        "id": "rvYjbYRlcaIQ",
        "outputId": "352c5630-4363-417a-d19c-aa90bdbc4a95"
      },
      "execution_count": 37,
      "outputs": [
        {
          "output_type": "stream",
          "name": "stdout",
          "text": [
            "Uppercase: HELLO, WORLD!\n",
            "Lowercase: hello, world!\n"
          ]
        }
      ]
    },
    {
      "cell_type": "markdown",
      "source": [
        "Strings may sometimes need to be converted into lists to facilitate specific operations or manipulations that are easier to perform with lists than with strings. Here are some common scenarios where converting a string to a list can be beneficial:\n",
        "\n",
        "- Tokenization: When working with natural language processing tasks such as text analysis or parsing, you may need to tokenize a string into individual words or characters. Converting the string to a list of words or characters makes it easier to process each token separately.\n",
        "\n",
        "- Modifying Individual Characters: Since strings are immutable in Python, you cannot directly modify individual characters in a string. However, if you convert the string to a list of characters, you can then modify individual characters by accessing them using list indexing and assignment.\n",
        "\n",
        "- String Manipulation: Certain string manipulation tasks, such as reversing a string or shuffling its characters, are more straightforward when performed on a list representation of the string rather than the string itself.\n",
        "\n",
        "- Data Transformation: In some data processing tasks, it may be more convenient to represent the data as a list of strings rather than a single concatenated string. This can facilitate operations such as filtering, sorting, or mapping over the elements.\n",
        "\n",
        "- Regular Expressions: When using regular expressions for pattern matching or substitution, converting the input string to a list of substrings can help in processing matches individually or applying different transformations to different parts of the string.\n"
      ],
      "metadata": {
        "id": "DCyqxq3jdII9"
      }
    },
    {
      "cell_type": "code",
      "source": [
        "# Splitting:\n",
        "split_string = my_string.split(\",\")  # Split the string into a list\n",
        "print(\"Split string:\", split_string)"
      ],
      "metadata": {
        "colab": {
          "base_uri": "https://localhost:8080/"
        },
        "id": "Ez-kREq9ctxO",
        "outputId": "ed4b111f-8c0b-4457-e763-b1326994819f"
      },
      "execution_count": 38,
      "outputs": [
        {
          "output_type": "stream",
          "name": "stdout",
          "text": [
            "Split string: ['Hello', ' World!']\n"
          ]
        }
      ]
    },
    {
      "cell_type": "code",
      "source": [
        "# Example of Tokenization:\n",
        "sentence = \"For understanding this concept\"\n",
        "tokenized_words = sentence.split()  # Convert the sentence to a list of words\n",
        "print(\"Tokenized words:\", tokenized_words)"
      ],
      "metadata": {
        "colab": {
          "base_uri": "https://localhost:8080/"
        },
        "id": "-qH9zZ4ceKA8",
        "outputId": "433675e6-19e3-4a0b-85f3-646dc0cc9f13"
      },
      "execution_count": 39,
      "outputs": [
        {
          "output_type": "stream",
          "name": "stdout",
          "text": [
            "Tokenized words: ['For', 'understanding', 'this', 'concept']\n"
          ]
        }
      ]
    },
    {
      "cell_type": "code",
      "source": [
        "# Example of Modifying Individual Characters:\n",
        "word = \"hello\"\n",
        "char_list = list(word)  # Convert the word to a list of characters\n",
        "char_list[0] = 'H'  # Modify the first character\n",
        "modified_word = ''.join(char_list)  # Convert the list back to a string\n",
        "print(\"Modified word:\", modified_word)"
      ],
      "metadata": {
        "colab": {
          "base_uri": "https://localhost:8080/"
        },
        "id": "8WLEv2doePhV",
        "outputId": "73e77d25-1814-4482-a446-dd524e15eb82"
      },
      "execution_count": 40,
      "outputs": [
        {
          "output_type": "stream",
          "name": "stdout",
          "text": [
            "Modified word: Hello\n"
          ]
        }
      ]
    },
    {
      "cell_type": "code",
      "source": [
        "# Example of String Manipulation:\n",
        "string_to_reverse = \"University\"\n",
        "reversed_string = ''.join(reversed(string_to_reverse))  # Reverse the string\n",
        "print(\"Reversed string:\", reversed_string)"
      ],
      "metadata": {
        "colab": {
          "base_uri": "https://localhost:8080/"
        },
        "id": "fYjla7QNeTfJ",
        "outputId": "be113fcf-36f9-49e3-ba74-a3828ac01b52"
      },
      "execution_count": 41,
      "outputs": [
        {
          "output_type": "stream",
          "name": "stdout",
          "text": [
            "Reversed string: ytisrevinU\n"
          ]
        }
      ]
    },
    {
      "cell_type": "code",
      "source": [
        "# Example of Data Transformation:\n",
        "data_string = \"1,2,3,4,5\"\n",
        "data_list = data_string.split(',')  # Convert the string to a list of numbers\n",
        "data_numbers = [int(num) for num in data_list]  # Convert each element to an integer\n",
        "print(\"Transformed data:\", data_numbers)"
      ],
      "metadata": {
        "colab": {
          "base_uri": "https://localhost:8080/"
        },
        "id": "9i5UnwafeuOR",
        "outputId": "e452659b-fa04-4cc1-cab7-ee3d9bf5287e"
      },
      "execution_count": 42,
      "outputs": [
        {
          "output_type": "stream",
          "name": "stdout",
          "text": [
            "Transformed data: [1, 2, 3, 4, 5]\n"
          ]
        }
      ]
    },
    {
      "cell_type": "code",
      "source": [
        "# Example of Regular Expressions:\n",
        "import re\n",
        "text = \"The quick brown fox jumps over the lazy dog.\"\n",
        "matches = re.findall(r'\\b\\w{3}\\b', text)            # Find all three-letter words\n",
        "print(\"Matches found:\", matches)"
      ],
      "metadata": {
        "colab": {
          "base_uri": "https://localhost:8080/"
        },
        "id": "p93O-UGpdhT0",
        "outputId": "e7688035-dd80-4993-dd51-3d14ec505c51"
      },
      "execution_count": 43,
      "outputs": [
        {
          "output_type": "stream",
          "name": "stdout",
          "text": [
            "Matches found: ['The', 'fox', 'the', 'dog']\n"
          ]
        }
      ]
    },
    {
      "cell_type": "code",
      "source": [
        "whitespace_string = \"  Hello, World!  \"\n",
        "\n",
        "print(\"Before Stripped string:\", whitespace_string)\n",
        "print(\"Stripped string:\", whitespace_string.strip())\n"
      ],
      "metadata": {
        "colab": {
          "base_uri": "https://localhost:8080/"
        },
        "id": "Gr4IcD2Ee_Jv",
        "outputId": "25207f45-f3c0-4b8f-a750-d7eff0195072"
      },
      "execution_count": 44,
      "outputs": [
        {
          "output_type": "stream",
          "name": "stdout",
          "text": [
            "Before Stripped string:   Hello, World!  \n",
            "Stripped string: Hello, World!\n"
          ]
        }
      ]
    },
    {
      "cell_type": "code",
      "source": [
        "my_string = \"Learning coding with an example is very effective\"\n",
        "\n",
        "# Finding substrings:\n",
        "print(\"Index of 'Learning':\", my_string.find(\"Learning\"))\n",
        "print(\"Index of 'coding':\", my_string.find(\"coding\"))  # Find the index of a substring\n",
        "print(\"Index of 'example':\", my_string.find(\"example\"))\n",
        "print(\"Index of 'effective':\", my_string.find(\"effective\"))"
      ],
      "metadata": {
        "colab": {
          "base_uri": "https://localhost:8080/"
        },
        "id": "mBysQmz8flru",
        "outputId": "29633646-065a-474d-9d14-f0936cd277e1"
      },
      "execution_count": 45,
      "outputs": [
        {
          "output_type": "stream",
          "name": "stdout",
          "text": [
            "Index of 'Learning': 0\n",
            "Index of 'coding': 9\n",
            "Index of 'example': 24\n",
            "Index of 'effective': 40\n"
          ]
        }
      ]
    },
    {
      "cell_type": "code",
      "source": [
        "my_string[0]"
      ],
      "metadata": {
        "colab": {
          "base_uri": "https://localhost:8080/",
          "height": 36
        },
        "id": "K0fS3ko_gkn8",
        "outputId": "a073fa24-4a8b-44e8-e11b-8d14a01f551e"
      },
      "execution_count": 46,
      "outputs": [
        {
          "output_type": "execute_result",
          "data": {
            "text/plain": [
              "'L'"
            ],
            "application/vnd.google.colaboratory.intrinsic+json": {
              "type": "string"
            }
          },
          "metadata": {},
          "execution_count": 46
        }
      ]
    },
    {
      "cell_type": "code",
      "source": [
        "# Checking starts/ends with:\n",
        "print(\"Starts with 'Learning':\", my_string.startswith(\"Learning\"))  # Check if the string starts with a substring\n",
        "print(\"Ends with 'effective!':\", my_string.endswith(\"effective\"))   # Check if the string ends with a substring\n",
        "print(\"Ends with 'example!':\", my_string.endswith(\"example\"))   # Check if the string ends with a substring"
      ],
      "metadata": {
        "colab": {
          "base_uri": "https://localhost:8080/"
        },
        "id": "dBc_yOLgg3a_",
        "outputId": "8a9522d8-0c72-4eea-b0db-60b869052232"
      },
      "execution_count": 47,
      "outputs": [
        {
          "output_type": "stream",
          "name": "stdout",
          "text": [
            "Starts with 'Learning': True\n",
            "Ends with 'effective!': True\n",
            "Ends with 'example!': False\n"
          ]
        }
      ]
    },
    {
      "cell_type": "code",
      "source": [
        "# Formatting:\n",
        "formatted_string = \"Name: {}, Age: {}\".format(\"John\", 30)  # Format a string\n",
        "print(\"Formatted string:\", formatted_string)"
      ],
      "metadata": {
        "colab": {
          "base_uri": "https://localhost:8080/"
        },
        "id": "zsT-uwPhhGeY",
        "outputId": "c3eeeefb-e933-49af-8594-19e12d88e3f9"
      },
      "execution_count": 48,
      "outputs": [
        {
          "output_type": "stream",
          "name": "stdout",
          "text": [
            "Formatted string: Name: John, Age: 30\n"
          ]
        }
      ]
    },
    {
      "cell_type": "markdown",
      "source": [
        "Adding and removing:\n",
        "\n",
        "Strings are immutable, so you cannot directly add or remove characters. However, you can create a new string with the desired modifications."
      ],
      "metadata": {
        "id": "E8ktAh51hONN"
      }
    },
    {
      "cell_type": "code",
      "source": [
        "my_string = \"Learning coding with examples is very effective\"\n",
        "\n",
        "# Example of adding:\n",
        "added_string = my_string + \" Goodbye!\"  # Concatenate two strings\n",
        "print(\"String after adding:\", added_string)\n",
        "\n",
        "# Example of removing:\n",
        "removed_string = my_string.replace(\"with examples\", \"\")  # Replace \"example\" with an empty string to remove it\n",
        "print(\"String after removing:\", removed_string)"
      ],
      "metadata": {
        "colab": {
          "base_uri": "https://localhost:8080/"
        },
        "id": "SNZ_EINqahns",
        "outputId": "934755fc-7828-46ee-fc1a-dbffb0ec8600"
      },
      "execution_count": 49,
      "outputs": [
        {
          "output_type": "stream",
          "name": "stdout",
          "text": [
            "String after adding: Learning coding with examples is very effective Goodbye!\n",
            "String after removing: Learning coding  is very effective\n"
          ]
        }
      ]
    },
    {
      "cell_type": "markdown",
      "source": [
        "# **list**"
      ],
      "metadata": {
        "id": "1UzSDO6OiRlG"
      }
    },
    {
      "cell_type": "markdown",
      "source": [
        "**Benefits of Lists:**\n",
        "\n",
        "- Versatility: Lists are incredibly versatile and can hold a variety of data types (integers, strings, floats, etc.) in a single structure.\n",
        "  \n",
        "- Mutability: Lists are mutable, meaning you can change, add, or remove elements after the list has been created. This makes them dynamic and flexible for modifying data.\n",
        "\n",
        "- Indexing and Slicing: Lists support indexing and slicing operations, allowing you to access individual elements or subsets of elements easily.\n",
        "\n",
        "- Ordered: Lists maintain the order of elements as they are inserted, allowing you to preserve the sequence of data.\n",
        "\n",
        "- Iterability: Lists can be easily iterated over using loops, making them suitable for looping constructs and iteration-based operations.\n",
        "\n",
        "**Drawbacks of Lists:**\n",
        "\n",
        "- Linear Time Operations: Some operations on lists, such as searching for an element or removing an element from the middle, have a linear time complexity, which can be inefficient for large lists.\n",
        "\n",
        "- Memory Overhead: Lists consume more memory compared to other data structures, especially when dealing with large lists, due to their dynamic resizing and internal structure.\n",
        "\n",
        "- Mutable: While mutability is a benefit, it can also be a drawback in certain scenarios where you want to ensure data integrity or avoid unintended changes to the list.\n",
        "\n",
        "- Ordered: While the order of elements is maintained, this also means that certain operations, such as adding or removing elements, may require shifting other elements, leading to potential performance issues for large lists.\n",
        "\n",
        "- Homogeneous: Lists allow for heterogeneous data types, but they are typically used to store homogeneous data. This means they may not be the best choice for certain scenarios requiring strict typing or data validation.\n"
      ],
      "metadata": {
        "id": "HYNw0vBvjMl3"
      }
    },
    {
      "cell_type": "code",
      "source": [
        "# Declare a list\n",
        "my_list = [1, 2, 3, \"nahid\", \"Kamal\"]"
      ],
      "metadata": {
        "id": "cgc0aWLXj1Bd"
      },
      "execution_count": 50,
      "outputs": []
    },
    {
      "cell_type": "code",
      "source": [
        "# Accessing elements in the list\n",
        "print(\"First element:\", my_list[0])  # Output: 1\n",
        "print(\"Last element:\", my_list[-1])  # Last element"
      ],
      "metadata": {
        "colab": {
          "base_uri": "https://localhost:8080/"
        },
        "id": "M9PL8wb4j2yc",
        "outputId": "7daad8f5-4427-46a9-dcf0-e0867b2b960c"
      },
      "execution_count": 51,
      "outputs": [
        {
          "output_type": "stream",
          "name": "stdout",
          "text": [
            "First element: 1\n",
            "Last element: Kamal\n"
          ]
        }
      ]
    },
    {
      "cell_type": "code",
      "source": [
        "# Adding elements to the list\n",
        "my_list.append(\"python\")  # Add python to the end of the list\n",
        "print(\"After adding python:\", my_list)"
      ],
      "metadata": {
        "colab": {
          "base_uri": "https://localhost:8080/"
        },
        "id": "O3TEbuFuj21K",
        "outputId": "a4663d1a-5fda-41b6-83a9-bbbf5c59560e"
      },
      "execution_count": 52,
      "outputs": [
        {
          "output_type": "stream",
          "name": "stdout",
          "text": [
            "After adding python: [1, 2, 3, 'nahid', 'Kamal', 'python']\n"
          ]
        }
      ]
    },
    {
      "cell_type": "code",
      "source": [
        "# Removing elements from the list\n",
        "removed_element = my_list.pop(2)  # Remove the element at index 2\n",
        "print(\"Removed element:\", removed_element)\n",
        "print(\"After removing element at index 2:\", my_list)\n",
        "\n",
        "# Remove the first occurrence of a specific element\n",
        "# my_list.remove(\"nahid\")                            #USE THIS STYLE ALSO\n",
        "# print(\"After removing 'nahid':\", my_list)"
      ],
      "metadata": {
        "colab": {
          "base_uri": "https://localhost:8080/"
        },
        "id": "a1-_WuUxj235",
        "outputId": "a23b518f-8887-41df-8367-883d4f2e1607"
      },
      "execution_count": 53,
      "outputs": [
        {
          "output_type": "stream",
          "name": "stdout",
          "text": [
            "Removed element: 3\n",
            "After removing element at index 2: [1, 2, 'nahid', 'Kamal', 'python']\n"
          ]
        }
      ]
    },
    {
      "cell_type": "code",
      "source": [
        "# Changing elements in the list\n",
        "my_list[3] = \"GPU\"  # Change the element at index 3 to GPU\n",
        "print(\"After changing element at index 3:\", my_list)"
      ],
      "metadata": {
        "colab": {
          "base_uri": "https://localhost:8080/"
        },
        "id": "T1lAs6uskbFZ",
        "outputId": "e03e4cae-c919-4a88-fb7c-724777290caf"
      },
      "execution_count": 54,
      "outputs": [
        {
          "output_type": "stream",
          "name": "stdout",
          "text": [
            "After changing element at index 3: [1, 2, 'nahid', 'GPU', 'python']\n"
          ]
        }
      ]
    },
    {
      "cell_type": "code",
      "source": [
        "# Extend the list with another list\n",
        "my_list.extend([4, 7, \"CUDA\"])\n",
        "print(\"Extended list:\", my_list)"
      ],
      "metadata": {
        "colab": {
          "base_uri": "https://localhost:8080/"
        },
        "id": "Q_6sldZqkbJl",
        "outputId": "8dc64b3c-30fc-45e7-e550-4b5f3b2ad0dd"
      },
      "execution_count": 55,
      "outputs": [
        {
          "output_type": "stream",
          "name": "stdout",
          "text": [
            "Extended list: [1, 2, 'nahid', 'GPU', 'python', 4, 7, 'CUDA']\n"
          ]
        }
      ]
    },
    {
      "cell_type": "code",
      "source": [
        "print(\"Length of the list:\", len(my_list)) #CHECK LENGTH OF LIST\n",
        "print(\"Index of 'nahid':\", my_list.index(\"nahid\"))"
      ],
      "metadata": {
        "colab": {
          "base_uri": "https://localhost:8080/"
        },
        "id": "FguArXYvlJVk",
        "outputId": "6db1438b-13c5-4dc7-b864-c6dc55b833dc"
      },
      "execution_count": 56,
      "outputs": [
        {
          "output_type": "stream",
          "name": "stdout",
          "text": [
            "Length of the list: 8\n",
            "Index of 'nahid': 2\n"
          ]
        }
      ]
    },
    {
      "cell_type": "code",
      "source": [
        "print(\"Count of 'CUDA':\", my_list.count(\"CUDA\"))\n",
        "print(\"Count of 'GPU':\", my_list.count(\"GPU\"))\n",
        "print(\"Count of '7':\", my_list.count(7))\n",
        "print(\"Count of '1':\", my_list.count(1))"
      ],
      "metadata": {
        "colab": {
          "base_uri": "https://localhost:8080/"
        },
        "id": "e3NJdomFjUfd",
        "outputId": "781cf49b-6974-407c-ee58-9bb6267b64cc"
      },
      "execution_count": 57,
      "outputs": [
        {
          "output_type": "stream",
          "name": "stdout",
          "text": [
            "Count of 'CUDA': 1\n",
            "Count of 'GPU': 1\n",
            "Count of '7': 1\n",
            "Count of '1': 1\n"
          ]
        }
      ]
    },
    {
      "cell_type": "code",
      "source": [
        "# Clear the entire list\n",
        "my_list.clear()\n",
        "print(\"Cleared list:\", my_list)"
      ],
      "metadata": {
        "colab": {
          "base_uri": "https://localhost:8080/"
        },
        "id": "ZAjgT6tVjUh0",
        "outputId": "8bed7225-2a92-43e1-e201-e7f238dba727"
      },
      "execution_count": 58,
      "outputs": [
        {
          "output_type": "stream",
          "name": "stdout",
          "text": [
            "Cleared list: []\n"
          ]
        }
      ]
    },
    {
      "cell_type": "markdown",
      "source": [
        "# **Tuple**"
      ],
      "metadata": {
        "id": "M73oeEROrQup"
      }
    },
    {
      "cell_type": "markdown",
      "source": [
        "**Benefits of Tuples:**\n",
        "\n",
        "- Immutable: Tuples are immutable, meaning their values cannot be changed after they are created. This ensures data integrity and prevents accidental modification of data.\n",
        "\n",
        "- Memory Efficiency: Tuples are more memory efficient compared to lists because they are immutable. This makes tuples suitable for storing fixed collections of data.\n",
        "\n",
        "- Fast Access: Since tuples are immutable and have a fixed size, accessing elements in a tuple is faster compared to lists, especially for large collections of data.\n",
        "\n",
        "- Sequence Preservation: Tuples preserve the order of elements, just like lists, making them suitable for scenarios where maintaining the sequence of data is important.\n",
        "\n",
        "- Hashability: Tuples are hashable, meaning they can be used as keys in dictionaries and as elements in sets, providing versatility in data structures.\n",
        "\n",
        "**Drawbacks of Tuples:**\n",
        "\n",
        "- Immutability: While immutability is a benefit for data integrity, it can also be a drawback in scenarios where you need to modify the data frequently. In such cases, lists may be more suitable.\n",
        "\n",
        "- Limited Operations: Due to their immutable nature, tuples support a limited set of operations compared to lists. For example, you cannot add or remove elements from a tuple once it is created.\n",
        "\n",
        "- Less Flexibility: Tuples are less flexible compared to lists because they cannot be modified. This can be a limitation in scenarios where dynamic changes to the data structure are required.\n",
        "\n",
        "- Less Readable Syntax: The syntax for creating tuples, especially empty tuples or tuples with a single element, can be less readable compared to lists. This can make code less intuitive in some cases.\n",
        "\n",
        "- Less Commonly Used: Tuples are less commonly used compared to lists in Python, which means there may be fewer resources and community support available for working with tuples compared to lists.\n"
      ],
      "metadata": {
        "id": "3ce3WeASrpxh"
      }
    },
    {
      "cell_type": "code",
      "source": [
        "# Declare a tuple\n",
        "my_tuple = (1, 2, 3, \"nahid\", \"Kamal\")"
      ],
      "metadata": {
        "id": "4_ZBPQ0esFiB"
      },
      "execution_count": 59,
      "outputs": []
    },
    {
      "cell_type": "code",
      "source": [
        "# Accessing values in the tuple\n",
        "print(\"First element:\", my_tuple[0])  # call first value\n",
        "print(\"Last element:\", my_tuple[-1])  # call last value"
      ],
      "metadata": {
        "colab": {
          "base_uri": "https://localhost:8080/"
        },
        "id": "bX219JqlsG-P",
        "outputId": "40863f65-0c5a-4ac1-d97f-8f24342e6943"
      },
      "execution_count": 60,
      "outputs": [
        {
          "output_type": "stream",
          "name": "stdout",
          "text": [
            "First element: 1\n",
            "Last element: Kamal\n"
          ]
        }
      ]
    },
    {
      "cell_type": "code",
      "source": [
        "# Tuple slicing\n",
        "print(\"Slice of tuple:\", my_tuple[1:4])"
      ],
      "metadata": {
        "colab": {
          "base_uri": "https://localhost:8080/"
        },
        "id": "1DDH1hPIsHA3",
        "outputId": "ee2fd6cc-93d8-410b-93b1-9b0067aff5e0"
      },
      "execution_count": 61,
      "outputs": [
        {
          "output_type": "stream",
          "name": "stdout",
          "text": [
            "Slice of tuple: (2, 3, 'nahid')\n"
          ]
        }
      ]
    },
    {
      "cell_type": "code",
      "source": [
        "my_tuple"
      ],
      "metadata": {
        "colab": {
          "base_uri": "https://localhost:8080/"
        },
        "id": "qOErbkXysHDy",
        "outputId": "ebe01d7a-c372-4ab5-e2ea-54ff86d51503"
      },
      "execution_count": 62,
      "outputs": [
        {
          "output_type": "execute_result",
          "data": {
            "text/plain": [
              "(1, 2, 3, 'nahid', 'Kamal')"
            ]
          },
          "metadata": {},
          "execution_count": 62
        }
      ]
    },
    {
      "cell_type": "code",
      "source": [
        "# Index method to find the index of an element\n",
        "print(\"Index of 'nahid':\", my_tuple.index(\"nahid\"))"
      ],
      "metadata": {
        "colab": {
          "base_uri": "https://localhost:8080/"
        },
        "id": "oRWLMNSfsHHI",
        "outputId": "bae1b61f-828a-4269-eef9-5825b3f338fa"
      },
      "execution_count": 70,
      "outputs": [
        {
          "output_type": "stream",
          "name": "stdout",
          "text": [
            "Index of 'nahid': 3\n"
          ]
        }
      ]
    },
    {
      "cell_type": "code",
      "source": [
        "# Declare a tuple\n",
        "my_tuple = (1, 2, 3, \"nahid\", \"Kamal\", 3, 3)\n",
        "# Count method to count occurrences of an element\n",
        "print(\"Count of 'nahid':\", my_tuple.count(\"nahid\"))\n",
        "print(\"Count of '3':\", my_tuple.count(3))"
      ],
      "metadata": {
        "colab": {
          "base_uri": "https://localhost:8080/"
        },
        "id": "bdQ1g8vgseLg",
        "outputId": "e5f57c0b-2a6f-465f-e383-20596d2d6152"
      },
      "execution_count": 64,
      "outputs": [
        {
          "output_type": "stream",
          "name": "stdout",
          "text": [
            "Count of 'nahid': 1\n",
            "Count of '3': 3\n"
          ]
        }
      ]
    },
    {
      "cell_type": "code",
      "source": [
        "# Concatenating tuples\n",
        "new_tuple = my_tuple + (4, 5, \"tensorflow\")\n",
        "print(\"Concatenated tuple:\", new_tuple)"
      ],
      "metadata": {
        "colab": {
          "base_uri": "https://localhost:8080/"
        },
        "id": "cVH6gnjxssc2",
        "outputId": "588314b0-c8a6-4143-bd94-3aded1c67e51"
      },
      "execution_count": 65,
      "outputs": [
        {
          "output_type": "stream",
          "name": "stdout",
          "text": [
            "Concatenated tuple: (1, 2, 3, 'nahid', 'Kamal', 3, 3, 4, 5, 'tensorflow')\n"
          ]
        }
      ]
    },
    {
      "cell_type": "code",
      "source": [
        "# Length of the tuple\n",
        "print(\"Length of tuple:\", len(my_tuple))"
      ],
      "metadata": {
        "colab": {
          "base_uri": "https://localhost:8080/"
        },
        "id": "0JpIC0rpszUK",
        "outputId": "d6ab81f3-e697-4f90-cfd0-1bbcf7915b01"
      },
      "execution_count": 66,
      "outputs": [
        {
          "output_type": "stream",
          "name": "stdout",
          "text": [
            "Length of tuple: 7\n"
          ]
        }
      ]
    },
    {
      "cell_type": "code",
      "source": [
        "# Unpacking tuple values\n",
        "a, b, c,_,_,_,_ = my_tuple\n",
        "print(\"Unpacked values:\", a, b, c)\n"
      ],
      "metadata": {
        "colab": {
          "base_uri": "https://localhost:8080/"
        },
        "id": "vWstmCsms1ve",
        "outputId": "df236c3d-00f5-4f57-c180-d43c473531ea"
      },
      "execution_count": 67,
      "outputs": [
        {
          "output_type": "stream",
          "name": "stdout",
          "text": [
            "Unpacked values: 1 2 3\n"
          ]
        }
      ]
    },
    {
      "cell_type": "code",
      "execution_count": 68,
      "metadata": {
        "colab": {
          "base_uri": "https://localhost:8080/"
        },
        "id": "jCeW0RultVJQ",
        "outputId": "4ad24048-8d54-4227-8654-7b378609063d"
      },
      "outputs": [
        {
          "output_type": "stream",
          "name": "stdout",
          "text": [
            "Item: 1\n",
            "Item: 2\n",
            "Item: 3\n",
            "Item: nahid\n",
            "Item: Kamal\n",
            "Item: 3\n",
            "Item: 3\n"
          ]
        }
      ],
      "source": [
        "# Iterating over a tuple\n",
        "for item in my_tuple:\n",
        "    print(\"Item:\", item)\n"
      ]
    },
    {
      "cell_type": "markdown",
      "source": [
        "# **Other Types**"
      ],
      "metadata": {
        "id": "gnfP0y0C1T9W"
      }
    },
    {
      "cell_type": "code",
      "source": [
        "# Assigning a range object\n",
        "x = range(10)\n",
        "print(\"Range object:\", x)\n",
        "\n",
        "# Assigning a frozenset value\n",
        "x = frozenset({\"geeks\", \"for\", \"geeks\"})\n",
        "print(\"Frozenset value:\", x)\n",
        "\n",
        "# Assigning a bytes value\n",
        "x = b\"Geeks\"\n",
        "print(\"Bytes value:\", x)\n",
        "\n",
        "# Assigning a bytearray value\n",
        "x = bytearray(4)\n",
        "print(\"Bytearray value:\", x)\n",
        "\n",
        "# Assigning a memoryview value\n",
        "x = memoryview(bytes(6))\n",
        "print(\"Memoryview value:\", x)\n",
        "\n",
        "# Assigning a None value\n",
        "x = None\n",
        "print(\"None value:\", x)\n"
      ],
      "metadata": {
        "colab": {
          "base_uri": "https://localhost:8080/"
        },
        "id": "zDfqKnDo1dTR",
        "outputId": "b093ad3c-1b93-4dcf-cd0f-cb00c5a0082b"
      },
      "execution_count": 69,
      "outputs": [
        {
          "output_type": "stream",
          "name": "stdout",
          "text": [
            "Range object: range(0, 10)\n",
            "Frozenset value: frozenset({'for', 'geeks'})\n",
            "Bytes value: b'Geeks'\n",
            "Bytearray value: bytearray(b'\\x00\\x00\\x00\\x00')\n",
            "Memoryview value: <memory at 0x7a6488379480>\n",
            "None value: None\n"
          ]
        }
      ]
    }
  ]
}