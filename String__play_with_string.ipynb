{
  "nbformat": 4,
  "nbformat_minor": 0,
  "metadata": {
    "colab": {
      "provenance": [],
      "authorship_tag": "ABX9TyP6N/V1O5L9FyL7JJlJrp3N",
      "include_colab_link": true
    },
    "kernelspec": {
      "name": "python3",
      "display_name": "Python 3"
    },
    "language_info": {
      "name": "python"
    }
  },
  "cells": [
    {
      "cell_type": "markdown",
      "metadata": {
        "id": "view-in-github",
        "colab_type": "text"
      },
      "source": [
        "<a href=\"https://colab.research.google.com/github/nahidul76edu/Python-Learning/blob/main/String__play_with_string.ipynb\" target=\"_parent\"><img src=\"https://colab.research.google.com/assets/colab-badge.svg\" alt=\"Open In Colab\"/></a>"
      ]
    },
    {
      "cell_type": "markdown",
      "source": [
        "**Benefits of Strings:**\n",
        "- **Text Representation:** Strings are used to represent text data in Python, making them essential for working with textual information.\n",
        "- **Immutable:** Strings in Python are immutable, meaning their values cannot be changed after they are created. This immutability ensures data integrity and simplifies memory management.\n",
        "- **Versatility:** Strings support various operations and methods for text manipulation, including concatenation, slicing, searching, replacing, and formatting.\n",
        "- **Interpolation:** Python provides powerful string interpolation mechanisms, such as f-strings and format() method, which allow for dynamic insertion of variables and expressions into strings.\n",
        "- **Unicode Support:** Python strings support Unicode characters, making them suitable for handling multilingual text and ensuring compatibility with different writing systems.\n",
        "\n",
        "**Drawbacks of Strings:**\n",
        "- **Memory Overhead:** Each character in a string consumes memory, which can lead to increased memory usage when working with large strings or many strings.\n",
        "- **Immutability:** While immutability ensures data integrity, it also means that creating modified versions of strings requires creating entirely new string objects, which can be inefficient for large strings or frequent modifications.\n",
        "- **Performance:** Some string operations, such as string concatenation using the + operator, can be inefficient, especially when dealing with large strings or many concatenations.\n",
        "- **Encoding Issues:** Working with encoded text, especially when dealing with different character encodings, can introduce complexities and potential errors in string processing.\n",
        "- **Lack of Byte-Level Access:** Unlike byte arrays, strings in Python do not provide direct access to individual bytes, which can be a limitation when working with binary data or low-level byte manipulation.\n"
      ],
      "metadata": {
        "id": "xS8pldmW0o7D"
      }
    },
    {
      "cell_type": "code",
      "execution_count": 1,
      "metadata": {
        "id": "cqboLYzy0WkI"
      },
      "outputs": [],
      "source": [
        "# Declare a string\n",
        "my_string = \"This is a string & play with it\""
      ]
    },
    {
      "cell_type": "code",
      "source": [
        "# Accessing values:\n",
        "print(\"my string:\", my_string) # print string (all)\n",
        "print(\"my string:\", my_string[::]) # print string (all)"
      ],
      "metadata": {
        "colab": {
          "base_uri": "https://localhost:8080/"
        },
        "id": "FnGbRzj02ww9",
        "outputId": "f283fdb2-8cc1-4080-f1bd-a352843b94e5"
      },
      "execution_count": 2,
      "outputs": [
        {
          "output_type": "stream",
          "name": "stdout",
          "text": [
            "my string: This is a string & play with it\n",
            "my string: This is a string & play with it\n"
          ]
        }
      ]
    },
    {
      "cell_type": "code",
      "source": [
        "print(\"Length of my string:\", len(my_string)) #check how many character exit in my string, including space, latter, special character"
      ],
      "metadata": {
        "colab": {
          "base_uri": "https://localhost:8080/"
        },
        "id": "ImoBsW0B1Swt",
        "outputId": "67142106-b1ba-4111-98da-6a15a8c38833"
      },
      "execution_count": 3,
      "outputs": [
        {
          "output_type": "stream",
          "name": "stdout",
          "text": [
            "Length of my string: 31\n"
          ]
        }
      ]
    },
    {
      "cell_type": "code",
      "source": [
        "print(\"First to last character:\", my_string[0])  # Access first character\n",
        "print(\"my string:\", my_string[3]) # print particular string, using indexing\n",
        "print(\"\")\n",
        "print(\"First to last character:\", my_string[0:])  # Access first to rest character\n",
        "print(\"First to last character:\", my_string[5:])  # Access third to rest character\n",
        "print(\"\")\n",
        "print(\"my string last charecter:\", my_string[-1]) # print last character of string, using indexing\n",
        "print(\"Last string-life is easy with code:\", my_string[len(my_string)-1])     # Access last string, no need to count element manually. easy way"
      ],
      "metadata": {
        "colab": {
          "base_uri": "https://localhost:8080/"
        },
        "id": "uOJhATAP1V4a",
        "outputId": "df45e056-00c1-415d-9970-551c9c0f5996"
      },
      "execution_count": 4,
      "outputs": [
        {
          "output_type": "stream",
          "name": "stdout",
          "text": [
            "First to last character: T\n",
            "my string: s\n",
            "\n",
            "First to last character: This is a string & play with it\n",
            "First to last character: is a string & play with it\n",
            "\n",
            "my string last charecter: t\n",
            "Last string-life is easy with code: t\n"
          ]
        }
      ]
    },
    {
      "cell_type": "markdown",
      "source": [
        "\n",
        "basic format of Accessing substring is:\n",
        "**String_variable[start: end: step]**\n",
        "\n",
        "start meaning that from which point of string you want to start\n",
        "end meaning that which point of string you want to end, remember it will always provide you (end-1 index)\n",
        "step meaning that how many string you want to skip, default = 1\n"
      ],
      "metadata": {
        "id": "WKx69LfL13gh"
      }
    },
    {
      "cell_type": "code",
      "source": [
        "print(\"Substring:\", my_string[0::2]) #here, it will skip 1 element of string\n",
        "print(\"Substring:\", my_string[0::3]) #here, it will skip 2 element of string\n",
        "print(\"Substring:\", my_string[0:4]) #it will call 1 to 3 index of string\n",
        "print(\"Substring:\", my_string[0:4:2])  #Access index 0 to 3 with skipping 1 character"
      ],
      "metadata": {
        "colab": {
          "base_uri": "https://localhost:8080/"
        },
        "id": "Qh8p9SLr1V7B",
        "outputId": "364a3c5e-4076-4b50-b822-127ca0354bcd"
      },
      "execution_count": 5,
      "outputs": [
        {
          "output_type": "stream",
          "name": "stdout",
          "text": [
            "Substring: Ti sasrn  lywt t\n",
            "Substring: Tss rg awht\n",
            "Substring: This\n",
            "Substring: Ti\n"
          ]
        }
      ]
    },
    {
      "cell_type": "markdown",
      "source": [
        "reverse operation of string"
      ],
      "metadata": {
        "id": "gz8e08UH2LUh"
      }
    },
    {
      "cell_type": "code",
      "source": [
        "# Accessing values reversly:\n",
        "print(\"Last character:\", my_string[-1])  # Access the last character\n",
        "# Accessing values reversly:\n",
        "print(\"reverse character:\", my_string[-1:-len(my_string):-1])  # Access all character reversly\n",
        "\n",
        "# Accessing values reversly:\n",
        "print(\"Last character:\", my_string[-1:-7:-1])  # Access some character reversly\n",
        "# Accessing values reversly:\n",
        "print(\"Last character:\", my_string[-1:-10:-2])  # Access some character reversly with step"
      ],
      "metadata": {
        "colab": {
          "base_uri": "https://localhost:8080/"
        },
        "id": "JZ9L7N-B2EWl",
        "outputId": "06089a0c-384c-4c06-cdba-3fdd289a91f7"
      },
      "execution_count": 6,
      "outputs": [
        {
          "output_type": "stream",
          "name": "stdout",
          "text": [
            "Last character: t\n",
            "reverse character: ti htiw yalp & gnirts a si sih\n",
            "Last character: ti hti\n",
            "Last character: t twy\n"
          ]
        }
      ]
    },
    {
      "cell_type": "markdown",
      "source": [
        "add muntiple strings"
      ],
      "metadata": {
        "id": "QdUlR7So23Jy"
      }
    },
    {
      "cell_type": "code",
      "source": [
        "# Concatenation:\n",
        "new_string_1 = my_string + \"Code make our life easy\"  # Concatenate two strings\n",
        "new_string_2 = my_string + \" \" +\"Code make our life easy\"  # Concatenate two strings with space\n",
        "print(\"Concatenated string:\", new_string_1)\n",
        "print(\"Concatenated string with space:\", new_string_2)\n",
        "print(\"\")\n",
        "#######################################################\n",
        "string_1 = \"nahid\"\n",
        "string_2 = \"is a\"\n",
        "string_3 = \"good human\"\n",
        "\n",
        "sum_of_string_1 = string_1 + string_2 + string_3             # if do not need space when adding\n",
        "sum_of_string_2 = string_1 + ' ' + string_2 +  ' ' + string_3 # if need space when adding\n",
        "print(\"Concatenate multipe strings: \", sum_of_string_1)\n",
        "print(\"Concatenate multipe strings: \", sum_of_string_2)"
      ],
      "metadata": {
        "colab": {
          "base_uri": "https://localhost:8080/"
        },
        "id": "uW7expgD21Md",
        "outputId": "b2b8a913-6d5c-464b-891b-4c309082b3b8"
      },
      "execution_count": 7,
      "outputs": [
        {
          "output_type": "stream",
          "name": "stdout",
          "text": [
            "Concatenated string: This is a string & play with itCode make our life easy\n",
            "Concatenated string with space: This is a string & play with it Code make our life easy\n",
            "\n",
            "Concatenate multipe strings:  nahidis agood human\n",
            "Concatenate multipe strings:  nahid is a good human\n"
          ]
        }
      ]
    },
    {
      "cell_type": "code",
      "source": [
        "# Checking membership:\n",
        "# Declare a string\n",
        "#my_string = \"This is a string & play with it\"\n",
        "\n",
        "if \"string\" in my_string:\n",
        "  print(\"first: The word 'string' is present in the string.\")\n",
        "else:\n",
        "  print(\"first: empty\")\n",
        "print(\"\")\n",
        "if \"hello\" in my_string:\n",
        "  print(\"second: The word 'string' is present in the string.\")\n",
        "else:\n",
        "  print(\"second: empty\")"
      ],
      "metadata": {
        "colab": {
          "base_uri": "https://localhost:8080/"
        },
        "id": "Xeath2x23V1b",
        "outputId": "80367a31-159d-4b79-c4ac-b68f03c70c26"
      },
      "execution_count": 8,
      "outputs": [
        {
          "output_type": "stream",
          "name": "stdout",
          "text": [
            "first: The word 'string' is present in the string.\n",
            "\n",
            "second: empty\n"
          ]
        }
      ]
    },
    {
      "cell_type": "markdown",
      "source": [
        "Loops using string"
      ],
      "metadata": {
        "id": "-xHIiNyJ4QOc"
      }
    },
    {
      "cell_type": "code",
      "source": [
        "# Iterating over characters:\n",
        "my_short_string = \"Tensorflow\"\n",
        "for i in my_short_string:\n",
        "  print(i)"
      ],
      "metadata": {
        "colab": {
          "base_uri": "https://localhost:8080/"
        },
        "id": "FcXRtysJ3pcG",
        "outputId": "d64d8d35-175b-42ac-e2c3-28d704051c08"
      },
      "execution_count": 9,
      "outputs": [
        {
          "output_type": "stream",
          "name": "stdout",
          "text": [
            "T\n",
            "e\n",
            "n\n",
            "s\n",
            "o\n",
            "r\n",
            "f\n",
            "l\n",
            "o\n",
            "w\n"
          ]
        }
      ]
    },
    {
      "cell_type": "code",
      "source": [
        "# Iterating over characters:\n",
        "my_short_string = \"Tensorflow\"\n",
        "for i in range(len(my_short_string)):\n",
        "  print(my_short_string[i])"
      ],
      "metadata": {
        "colab": {
          "base_uri": "https://localhost:8080/"
        },
        "id": "1AQ7JDFV4orl",
        "outputId": "d3d78701-5129-4967-dc80-c7f355fd8c9b"
      },
      "execution_count": 10,
      "outputs": [
        {
          "output_type": "stream",
          "name": "stdout",
          "text": [
            "T\n",
            "e\n",
            "n\n",
            "s\n",
            "o\n",
            "r\n",
            "f\n",
            "l\n",
            "o\n",
            "w\n"
          ]
        }
      ]
    },
    {
      "cell_type": "code",
      "source": [
        "# reverse Iterating over characters:\n",
        "#my_short_string = \"Tensorflow\"\n",
        "for i in range(len(my_short_string)-1, -1, -1):\n",
        "  print(my_short_string[i])"
      ],
      "metadata": {
        "colab": {
          "base_uri": "https://localhost:8080/"
        },
        "id": "Spgfdit441ok",
        "outputId": "1584a82a-fad0-46ed-b816-2c8ef1c0a6fb"
      },
      "execution_count": 11,
      "outputs": [
        {
          "output_type": "stream",
          "name": "stdout",
          "text": [
            "w\n",
            "o\n",
            "l\n",
            "f\n",
            "r\n",
            "o\n",
            "s\n",
            "n\n",
            "e\n",
            "T\n"
          ]
        }
      ]
    },
    {
      "cell_type": "code",
      "source": [
        "#my_short_string = \"Tensorflow\"\n",
        "a = 0\n",
        "while a<len(my_short_string):\n",
        "  print(my_short_string[a])\n",
        "  a+=1"
      ],
      "metadata": {
        "colab": {
          "base_uri": "https://localhost:8080/"
        },
        "id": "7i0P1ncj5k4m",
        "outputId": "2ac3ee4f-0c77-48a8-c183-4a0d548d8aee"
      },
      "execution_count": 12,
      "outputs": [
        {
          "output_type": "stream",
          "name": "stdout",
          "text": [
            "T\n",
            "e\n",
            "n\n",
            "s\n",
            "o\n",
            "r\n",
            "f\n",
            "l\n",
            "o\n",
            "w\n"
          ]
        }
      ]
    },
    {
      "cell_type": "markdown",
      "source": [
        "Lower, Upper, Title and Capitalise Functions"
      ],
      "metadata": {
        "id": "QNuJq-1x672m"
      }
    },
    {
      "cell_type": "code",
      "source": [
        "NEW_String1 = \"This is my String\"\n",
        "print(\"NEW_String1:\", NEW_String1)\n",
        "print(\"\")\n",
        "lower_case =NEW_String1.lower()\n",
        "print(\"lower_case:\", lower_case)\n",
        "print(\"\")\n",
        "upper_case =NEW_String1.upper()\n",
        "print(\"upper_case:\", upper_case)\n",
        "print(\"\")\n",
        "title_case =NEW_String1.title()\n",
        "print(\"title_case:\", title_case)\n",
        "print(\"\")\n",
        "NEW_String2 = \"this is my String\"\n",
        "capitalize_case =NEW_String2.capitalize()\n",
        "print(\"capitalize_case:\", capitalize_case)"
      ],
      "metadata": {
        "colab": {
          "base_uri": "https://localhost:8080/"
        },
        "id": "BCO__6-H623t",
        "outputId": "651ebed4-1da7-4884-cc28-1c659c93cb7f"
      },
      "execution_count": 13,
      "outputs": [
        {
          "output_type": "stream",
          "name": "stdout",
          "text": [
            "NEW_String1: This is my String\n",
            "\n",
            "lower_case: this is my string\n",
            "\n",
            "upper_case: THIS IS MY STRING\n",
            "\n",
            "title_case: This Is My String\n",
            "\n",
            "capitalize_case: This is my string\n"
          ]
        }
      ]
    },
    {
      "cell_type": "markdown",
      "source": [
        "Find, Index, Isalpha, Isdigit & Isalnum Functions"
      ],
      "metadata": {
        "id": "eIup06m29JjD"
      }
    },
    {
      "cell_type": "code",
      "source": [
        "#find()\n",
        "my_string = \"This is a string & play with it\"\n",
        "\n",
        "finding_index_1 = my_string.find(\"&\")\n",
        "print(\"finding_index_1:\", finding_index_1)\n",
        "finding_index_2 = my_string.find(\"i\")\n",
        "print(\"finding_index_2:\", finding_index_2)"
      ],
      "metadata": {
        "colab": {
          "base_uri": "https://localhost:8080/"
        },
        "id": "_L09NWlf9BiX",
        "outputId": "95dc88fa-f52d-470b-95d2-1cdc6dfc6167"
      },
      "execution_count": 14,
      "outputs": [
        {
          "output_type": "stream",
          "name": "stdout",
          "text": [
            "finding_index_1: 17\n",
            "finding_index_2: 2\n"
          ]
        }
      ]
    },
    {
      "cell_type": "code",
      "source": [
        "#index()\n",
        "finding_index_1 = my_string.index(\"&\")\n",
        "print(\"finding_index_1:\", finding_index_1)\n",
        "finding_index_2 = my_string.index(\"i\")\n",
        "print(\"finding_index_2:\", finding_index_2)"
      ],
      "metadata": {
        "colab": {
          "base_uri": "https://localhost:8080/"
        },
        "id": "gglV73_o9sBq",
        "outputId": "b6c8bc0a-1d45-4968-e2d7-cc48675c2c10"
      },
      "execution_count": 15,
      "outputs": [
        {
          "output_type": "stream",
          "name": "stdout",
          "text": [
            "finding_index_1: 17\n",
            "finding_index_2: 2\n"
          ]
        }
      ]
    },
    {
      "cell_type": "code",
      "source": [
        "#isalpha()\n",
        "#check is string contains all alphabet\n",
        "#my_string = \"This is a string & play with it\"\n",
        "check_all_alphabet_1 = my_string.isalpha()\n",
        "print('check_all_alphabet_1 = ', check_all_alphabet_1)\n",
        "\n",
        "string_1 = \"Hello\"\n",
        "check_all_alphabet_2 = string_1.isalpha()\n",
        "print('check_all_alphabet_2 = ', check_all_alphabet_2)"
      ],
      "metadata": {
        "colab": {
          "base_uri": "https://localhost:8080/"
        },
        "id": "COVZBIGj-N5H",
        "outputId": "611b2ada-a02b-413c-9399-0bf8bb0f23ee"
      },
      "execution_count": 16,
      "outputs": [
        {
          "output_type": "stream",
          "name": "stdout",
          "text": [
            "check_all_alphabet_1 =  False\n",
            "check_all_alphabet_2 =  True\n"
          ]
        }
      ]
    },
    {
      "cell_type": "code",
      "source": [
        "#isdigit()\n",
        "#check is string contains all digit\n",
        "string1 = \"12345\"\n",
        "string2 = \"abcd\"\n",
        "string3 = \"abcd123\"\n",
        "string4 = \"1, 3, 5\"\n",
        "\n",
        "print(\"check_all_are digit? \", string1.isdigit())\n",
        "print(\"check_all_are digit? \", string2.isdigit())\n",
        "print(\"check_all_are digit? \", string3.isdigit())\n",
        "print(\"check_all_are digit? \", string4.isdigit())"
      ],
      "metadata": {
        "colab": {
          "base_uri": "https://localhost:8080/"
        },
        "id": "GAn6wAvx_E_G",
        "outputId": "01846c66-7671-4dcc-fe04-48850add84a4"
      },
      "execution_count": 17,
      "outputs": [
        {
          "output_type": "stream",
          "name": "stdout",
          "text": [
            "check_all_are digit?  True\n",
            "check_all_are digit?  False\n",
            "check_all_are digit?  False\n",
            "check_all_are digit?  False\n"
          ]
        }
      ]
    },
    {
      "cell_type": "code",
      "source": [
        "#isalnum()\n",
        "#check is string contains all digit and alpha\n",
        "string1 = \"12345\"\n",
        "string2 = \"abcd\"\n",
        "string3 = \"abcd123\"\n",
        "string4 = \"1, 3, 5\"\n",
        "\n",
        "print(\"check_all_are digit? \", string1.isalnum())\n",
        "print(\"check_all_are digit? \", string2.isalnum())\n",
        "print(\"check_all_are digit? \", string3.isalnum())\n",
        "print(\"check_all_are digit? \", string4.isalnum())"
      ],
      "metadata": {
        "colab": {
          "base_uri": "https://localhost:8080/"
        },
        "id": "-BUvzL_QAA9p",
        "outputId": "2a44729c-eb30-4aab-ead9-43f7683c5587"
      },
      "execution_count": 18,
      "outputs": [
        {
          "output_type": "stream",
          "name": "stdout",
          "text": [
            "check_all_are digit?  True\n",
            "check_all_are digit?  True\n",
            "check_all_are digit?  True\n",
            "check_all_are digit?  False\n"
          ]
        }
      ]
    },
    {
      "cell_type": "markdown",
      "source": [
        "Ord() and Chr() Functions"
      ],
      "metadata": {
        "id": "f9EMlBTwAdb0"
      }
    },
    {
      "cell_type": "code",
      "source": [
        "#Chr(): convert integer into character\n",
        "int_1 = chr(70)\n",
        "print(\"int convert into char:\",int_1)\n",
        "print(type(int_1))"
      ],
      "metadata": {
        "colab": {
          "base_uri": "https://localhost:8080/"
        },
        "id": "JxlthnsrAUQI",
        "outputId": "7d72ea3e-103a-4ed2-f9f4-4d3953993fa9"
      },
      "execution_count": 19,
      "outputs": [
        {
          "output_type": "stream",
          "name": "stdout",
          "text": [
            "int convert into char: F\n",
            "<class 'str'>\n"
          ]
        }
      ]
    },
    {
      "cell_type": "code",
      "source": [
        "#Ord() : convert character into integer\n",
        "char_1 = ord('a')\n",
        "char_3 = ord('A')\n",
        "print(\"convert character into integer:\", char_1, char_3)\n",
        "print(type(char_1), type(char_3))"
      ],
      "metadata": {
        "colab": {
          "base_uri": "https://localhost:8080/"
        },
        "id": "KKA9nH0QCu0X",
        "outputId": "7bccf2c7-f4f5-4882-e7bf-f59c7e173e61"
      },
      "execution_count": 20,
      "outputs": [
        {
          "output_type": "stream",
          "name": "stdout",
          "text": [
            "convert character into integer: 97 65\n",
            "<class 'int'> <class 'int'>\n"
          ]
        }
      ]
    },
    {
      "cell_type": "markdown",
      "source": [
        "String Format"
      ],
      "metadata": {
        "id": "pjvzpqwdEQBu"
      }
    },
    {
      "cell_type": "code",
      "source": [
        "#empty index\n",
        "string_style1 = \"I am {} and i love to learn {}\".format(\"nahid\", \"coding\")\n",
        "print(\"format string using empty index:\\n\",string_style1)\n",
        "print(\"\")\n",
        "#name index\n",
        "string_style2 = \"I am {username} and i love to learn {hobby}\".format(username = \"nahid\", hobby = \"coding\")\n",
        "print(\"format string using name index:\\n\",string_style2)\n",
        "print(\"\")\n",
        "#number index\n",
        "string_style3 = \"I am {0} and i love to learn {1}\".format(\"nahid\", \"coding\")\n",
        "print(\"format string using number index:\\n\",string_style3)"
      ],
      "metadata": {
        "colab": {
          "base_uri": "https://localhost:8080/"
        },
        "id": "iYIaBB2VEPUy",
        "outputId": "e7da9e7c-b5c2-44c6-e537-aed70bfd8a04"
      },
      "execution_count": 21,
      "outputs": [
        {
          "output_type": "stream",
          "name": "stdout",
          "text": [
            "format string using empty index:\n",
            " I am nahid and i love to learn coding\n",
            "\n",
            "format string using name index:\n",
            " I am nahid and i love to learn coding\n",
            "\n",
            "format string using number index:\n",
            " I am nahid and i love to learn coding\n"
          ]
        }
      ]
    },
    {
      "cell_type": "code",
      "source": [
        "#name index\n",
        "string_style2 = \"I am {hobby} and i love to learn {username}\".format(username = \"nahid\", hobby = \"coding\")\n",
        "print(\"format string using name index:\\n\",string_style2)\n",
        "print(\"\")\n",
        "#number index\n",
        "string_style3 = \"I am {1} and i love to learn {0}\".format(\"nahid\", \"coding\")\n",
        "print(\"format string using number index:\\n\",string_style3)"
      ],
      "metadata": {
        "colab": {
          "base_uri": "https://localhost:8080/"
        },
        "id": "rxdF7lK7IkIB",
        "outputId": "704f3ae0-fd86-408a-f403-60a3e894da9f"
      },
      "execution_count": 22,
      "outputs": [
        {
          "output_type": "stream",
          "name": "stdout",
          "text": [
            "format string using name index:\n",
            " I am coding and i love to learn nahid\n",
            "\n",
            "format string using number index:\n",
            " I am coding and i love to learn nahid\n"
          ]
        }
      ]
    },
    {
      "cell_type": "code",
      "source": [
        "#name index\n",
        "string_style4 = \"I am {hobby:10} and i love to learn {username}\".format(username = \"nahid\", hobby = \"coding\") #{hobby:10} adding 10 space\n",
        "print(\"format string using name index:\\n\",string_style4)\n",
        "print(\"\")\n",
        "#number index\n",
        "string_style5 = \"I am {0} and i {1:15} to learn {2}\".format(\"nahid\", \"love\", \"coding\")\n",
        "print(\"format string using number index:\\n\",string_style5)"
      ],
      "metadata": {
        "colab": {
          "base_uri": "https://localhost:8080/"
        },
        "id": "7t2iP4UWJLeT",
        "outputId": "7f3dd9d9-3f28-4c38-c7cb-a74e688011ee"
      },
      "execution_count": 23,
      "outputs": [
        {
          "output_type": "stream",
          "name": "stdout",
          "text": [
            "format string using name index:\n",
            " I am coding     and i love to learn nahid\n",
            "\n",
            "format string using number index:\n",
            " I am nahid and i love            to learn coding\n"
          ]
        }
      ]
    },
    {
      "cell_type": "code",
      "source": [
        "name = \"nahid\"\n",
        "age = 28\n",
        "height = 5.10\n",
        "\n",
        "# Using old-style formatting\n",
        "old_style_formatted_string = \"Hello, %s! You are %d years old and %.2f feet tall.\" % (name, age, height)\n",
        "\n",
        "# Using new-style formatting (str.format method)\n",
        "new_style_formatted_string = \"Hello, {}! You are {} years old and {:.2f} feet tall.\".format(name, age, height)\n",
        "\n",
        "# Using f-strings\n",
        "f_string = f\"Hello, {name}! You are {age} years old and {height:.2f} feet tall.\"\n",
        "\n",
        "# Output\n",
        "print(\"Old-style formatting:\", old_style_formatted_string)\n",
        "print(\"New-style formatting:\", new_style_formatted_string)\n",
        "print(\"Using f-strings:\", f_string)"
      ],
      "metadata": {
        "colab": {
          "base_uri": "https://localhost:8080/"
        },
        "id": "yNfGpUsEGJLR",
        "outputId": "ef211a8f-c443-4e5b-8afb-85b0516eca0b"
      },
      "execution_count": 24,
      "outputs": [
        {
          "output_type": "stream",
          "name": "stdout",
          "text": [
            "Old-style formatting: Hello, nahid! You are 28 years old and 5.10 feet tall.\n",
            "New-style formatting: Hello, nahid! You are 28 years old and 5.10 feet tall.\n",
            "Using f-strings: Hello, nahid! You are 28 years old and 5.10 feet tall.\n"
          ]
        }
      ]
    },
    {
      "cell_type": "markdown",
      "source": [
        "Replacing string"
      ],
      "metadata": {
        "id": "HN5h0G14KFpY"
      }
    },
    {
      "cell_type": "code",
      "source": [
        "# Replacing:\n",
        "my_string = \"I am a string & play with me\"\n",
        "print(\"String before replacement (original):\", my_string)\n",
        "\n",
        "new_string = my_string.replace(\"& play with me\", \", -please replace me\")  # Replace a substring\n",
        "print(\"String after replacement:\", new_string)\n",
        "\n",
        "# Replace two substrings\n",
        "new_string = my_string.replace(\"string\", \"sad string\").replace(\"& play with\", \", please! replace\")\n",
        "\n",
        "print(new_string)\n"
      ],
      "metadata": {
        "colab": {
          "base_uri": "https://localhost:8080/"
        },
        "id": "gxT34pFiKDTB",
        "outputId": "56068e26-664d-467a-8da4-0063b8b6c604"
      },
      "execution_count": 25,
      "outputs": [
        {
          "output_type": "stream",
          "name": "stdout",
          "text": [
            "String before replacement (original): I am a string & play with me\n",
            "String after replacement: I am a string , -please replace me\n",
            "I am a sad string , please! replace me\n"
          ]
        }
      ]
    },
    {
      "cell_type": "markdown",
      "source": [
        "Strings may sometimes need to be converted into lists to facilitate specific operations or manipulations that are easier to perform with lists than with strings. Here are some common scenarios where converting a string to a list can be beneficial:\n",
        "\n",
        "- Tokenization: When working with natural language processing tasks such as text analysis or parsing, you may need to tokenize a string into individual words or characters. Converting the string to a list of words or characters makes it easier to process each token separately.\n",
        "\n",
        "- Modifying Individual Characters: Since strings are immutable in Python, you cannot directly modify individual characters in a string. However, if you convert the string to a list of characters, you can then modify individual characters by accessing them using list indexing and assignment.\n",
        "\n",
        "- String Manipulation: Certain string manipulation tasks, such as reversing a string or shuffling its characters, are more straightforward when performed on a list representation of the string rather than the string itself.\n",
        "\n",
        "- Data Transformation: In some data processing tasks, it may be more convenient to represent the data as a list of strings rather than a single concatenated string. This can facilitate operations such as filtering, sorting, or mapping over the elements.\n",
        "\n",
        "- Regular Expressions: When using regular expressions for pattern matching or substitution, converting the input string to a list of substrings can help in processing matches individually or applying different transformations to different parts of the string.\n"
      ],
      "metadata": {
        "id": "MWAaq2uiMNoz"
      }
    },
    {
      "cell_type": "code",
      "source": [
        "# Splitting:\n",
        "my_string1 = \"I am a string & play with me\"\n",
        "# Splitting:\n",
        "my_string2 = \"I am a string, play with me\"\n",
        "# Splitting:\n",
        "my_string3 = \"I am happy, but lasy\"\n",
        "\n",
        "split_string1 = my_string1.split(\"&\")  # Split the string into a list\n",
        "split_string2 = my_string2.split(\",\")  # Split the string into a list\n",
        "split_string3 = my_string3.split(\",\")  # Split the string into a list\n",
        "\n",
        "print(\"split_string1:\", split_string1)\n",
        "print(\"split_string2:\", split_string2)\n",
        "print(\"split_string3:\", split_string3)\n",
        "\n",
        "print(\"\")\n",
        "print(type(split_string1))\n",
        "print(type(split_string1[0]))"
      ],
      "metadata": {
        "colab": {
          "base_uri": "https://localhost:8080/"
        },
        "id": "8TVVYElyMLtC",
        "outputId": "a04c53bc-4fd1-4fc0-d4a3-073e99880e5d"
      },
      "execution_count": 26,
      "outputs": [
        {
          "output_type": "stream",
          "name": "stdout",
          "text": [
            "split_string1: ['I am a string ', ' play with me']\n",
            "split_string2: ['I am a string', ' play with me']\n",
            "split_string3: ['I am happy', ' but lasy']\n",
            "\n",
            "<class 'list'>\n",
            "<class 'str'>\n"
          ]
        }
      ]
    },
    {
      "cell_type": "code",
      "source": [
        "my_string4 = \"Nahid is a human, not a robot - human is always better than robot: in critical thinking\"\n",
        "\n",
        "split_list = [item for sublist in [subitem.split(\":\") for subitem in [item for sublist in [item.split(\"-\") for item in my_string4.split(\",\")] for item in sublist]] for item in sublist]\n",
        "\n",
        "print(split_list)"
      ],
      "metadata": {
        "colab": {
          "base_uri": "https://localhost:8080/"
        },
        "id": "K_Vh9irCN85D",
        "outputId": "20522a21-165f-48e5-9617-01c6e2b18b6f"
      },
      "execution_count": 27,
      "outputs": [
        {
          "output_type": "stream",
          "name": "stdout",
          "text": [
            "['Nahid is a human', ' not a robot ', ' human is always better than robot', ' in critical thinking']\n"
          ]
        }
      ]
    },
    {
      "cell_type": "code",
      "source": [
        "# Example of Tokenization:\n",
        "sentence = \"I am a string & play with me\"\n",
        "\n",
        "tokenized_words = sentence.split()  # Convert the sentence to a list of words\n",
        "print(\"Tokenized words:\", tokenized_words)"
      ],
      "metadata": {
        "colab": {
          "base_uri": "https://localhost:8080/"
        },
        "id": "uNLWAlPGO5od",
        "outputId": "0be308d8-56f3-4f61-a0d2-8cc412989fc7"
      },
      "execution_count": 28,
      "outputs": [
        {
          "output_type": "stream",
          "name": "stdout",
          "text": [
            "Tokenized words: ['I', 'am', 'a', 'string', '&', 'play', 'with', 'me']\n"
          ]
        }
      ]
    },
    {
      "cell_type": "code",
      "source": [
        "# Example of String Manipulation:\n",
        "string_to_reverse = \"Tensorflow\"\n",
        "reversed_string = ''.join(reversed(string_to_reverse))  # Reverse the string\n",
        "print(\"Reversed string:\", reversed_string)"
      ],
      "metadata": {
        "colab": {
          "base_uri": "https://localhost:8080/"
        },
        "id": "_Yvbj_b-PCYr",
        "outputId": "65222192-5902-46bc-e095-743edb9343b0"
      },
      "execution_count": 29,
      "outputs": [
        {
          "output_type": "stream",
          "name": "stdout",
          "text": [
            "Reversed string: wolfrosneT\n"
          ]
        }
      ]
    },
    {
      "cell_type": "code",
      "source": [
        "# Example of Modifying Individual Characters:\n",
        "word = \"hello\"\n",
        "char_list = list(word)  # Convert the word to a list of characters\n",
        "char_list[0] = 'H'  # Modify the first character\n",
        "modified_word = ''.join(char_list)  # Convert the list back to a string\n",
        "print(\"Modified word:\", modified_word)"
      ],
      "metadata": {
        "colab": {
          "base_uri": "https://localhost:8080/"
        },
        "id": "sWTcew5APOf0",
        "outputId": "0c490b60-6f77-4536-bc05-a4605d1d3214"
      },
      "execution_count": 30,
      "outputs": [
        {
          "output_type": "stream",
          "name": "stdout",
          "text": [
            "Modified word: Hello\n"
          ]
        }
      ]
    },
    {
      "cell_type": "code",
      "source": [
        "# Example of Data Transformation:\n",
        "data_string = \"1,2,3,4,5\"\n",
        "data_list = data_string.split(',')  # Convert the string to a list of numbers\n",
        "data_numbers = [int(num) for num in data_list]  # Convert each element to an integer\n",
        "print(\"Transformed data:\", data_numbers)"
      ],
      "metadata": {
        "colab": {
          "base_uri": "https://localhost:8080/"
        },
        "id": "Sxv5L9AAPcqL",
        "outputId": "6ebad641-f86e-4b1e-c3cb-74735278498c"
      },
      "execution_count": 31,
      "outputs": [
        {
          "output_type": "stream",
          "name": "stdout",
          "text": [
            "Transformed data: [1, 2, 3, 4, 5]\n"
          ]
        }
      ]
    },
    {
      "cell_type": "code",
      "source": [
        "# Example of Regular Expressions:\n",
        "import re\n",
        "text = \"The quick brown fox jumps over the lazy dog.\"\n",
        "matches = re.findall(r'\\b\\w{3}\\b', text)            # Find all three-letter words\n",
        "print(\"Matches found:\", matches)"
      ],
      "metadata": {
        "colab": {
          "base_uri": "https://localhost:8080/"
        },
        "id": "PP40-QjkPdsp",
        "outputId": "d3b3b62a-d0a0-4e3a-b8fa-da70992d07ba"
      },
      "execution_count": 32,
      "outputs": [
        {
          "output_type": "stream",
          "name": "stdout",
          "text": [
            "Matches found: ['The', 'fox', 'the', 'dog']\n"
          ]
        }
      ]
    },
    {
      "cell_type": "markdown",
      "source": [
        "strip"
      ],
      "metadata": {
        "id": "Qwgu1BTbPoPP"
      }
    },
    {
      "cell_type": "code",
      "source": [
        "whitespace_string = \"  Hello, World!  \"\n",
        "\n",
        "print(\"Before Stripped string:\", whitespace_string)\n",
        "print(\"Stripped string:\", whitespace_string.strip())"
      ],
      "metadata": {
        "colab": {
          "base_uri": "https://localhost:8080/"
        },
        "id": "yod3OAmePnpU",
        "outputId": "1f25a61b-80a8-4397-94eb-3f815026ed3d"
      },
      "execution_count": 33,
      "outputs": [
        {
          "output_type": "stream",
          "name": "stdout",
          "text": [
            "Before Stripped string:   Hello, World!  \n",
            "Stripped string: Hello, World!\n"
          ]
        }
      ]
    },
    {
      "cell_type": "code",
      "source": [
        "my_string = \"Learning coding with an example is very effective\"\n",
        "\n",
        "# Finding substrings:\n",
        "print(\"Index of 'Learning':\", my_string.find(\"Learning\"))\n",
        "print(\"Index of 'coding':\", my_string.find(\"coding\"))  # Find the index of a substring\n",
        "print(\"Index of 'example':\", my_string.find(\"example\"))\n",
        "print(\"Index of 'effective':\", my_string.find(\"effective\"))"
      ],
      "metadata": {
        "colab": {
          "base_uri": "https://localhost:8080/"
        },
        "id": "JRDvugpNPthj",
        "outputId": "247cc647-2d0b-403a-92f2-e79ea2111748"
      },
      "execution_count": 34,
      "outputs": [
        {
          "output_type": "stream",
          "name": "stdout",
          "text": [
            "Index of 'Learning': 0\n",
            "Index of 'coding': 9\n",
            "Index of 'example': 24\n",
            "Index of 'effective': 40\n"
          ]
        }
      ]
    },
    {
      "cell_type": "code",
      "source": [
        "# Checking starts/ends with:\n",
        "print(\"Starts with 'Learning':\", my_string.startswith(\"Learning\"))  # Check if the string starts with a substring\n",
        "print(\"Ends with 'effective!':\", my_string.endswith(\"effective\"))   # Check if the string ends with a substring\n",
        "print(\"Ends with 'example!':\", my_string.endswith(\"example\"))   # Check if the string ends with a substring"
      ],
      "metadata": {
        "colab": {
          "base_uri": "https://localhost:8080/"
        },
        "id": "3Q4UmlZwPw99",
        "outputId": "60be0eae-3526-49de-f84b-c1fce6263313"
      },
      "execution_count": 35,
      "outputs": [
        {
          "output_type": "stream",
          "name": "stdout",
          "text": [
            "Starts with 'Learning': True\n",
            "Ends with 'effective!': True\n",
            "Ends with 'example!': False\n"
          ]
        }
      ]
    },
    {
      "cell_type": "code",
      "source": [
        "my_string = \"Learning coding with examples is very effective\"\n",
        "\n",
        "# Example of adding:\n",
        "added_string = my_string + \" Goodbye!\"  # Concatenate two strings\n",
        "print(\"String after adding:\", added_string)\n",
        "\n",
        "# Example of removing:\n",
        "removed_string = my_string.replace(\"with examples\", \"\")  # Replace \"example\" with an empty string to remove it\n",
        "print(\"String after removing:\", removed_string)"
      ],
      "metadata": {
        "colab": {
          "base_uri": "https://localhost:8080/"
        },
        "id": "Rq6pSfOwPzvM",
        "outputId": "2abfd4e1-5570-49b3-c6b4-51978ca4fb68"
      },
      "execution_count": 36,
      "outputs": [
        {
          "output_type": "stream",
          "name": "stdout",
          "text": [
            "String after adding: Learning coding with examples is very effective Goodbye!\n",
            "String after removing: Learning coding  is very effective\n"
          ]
        }
      ]
    }
  ]
}